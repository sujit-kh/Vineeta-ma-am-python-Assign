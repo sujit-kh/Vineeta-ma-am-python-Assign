{
 "cells": [
  {
   "cell_type": "code",
   "execution_count": 1,
   "id": "95f5d649",
   "metadata": {},
   "outputs": [],
   "source": [
    "# Write a program to check whether a number is divisible by 7 or not"
   ]
  },
  {
   "cell_type": "code",
   "execution_count": 2,
   "id": "bc5d5ae2",
   "metadata": {},
   "outputs": [
    {
     "name": "stdout",
     "output_type": "stream",
     "text": [
      "Enter the number\n",
      "21\n",
      "number is divisible 7\n"
     ]
    }
   ],
   "source": [
    "print('Enter the number')\n",
    "num=int(input())\n",
    "if(num%7==0):\n",
    "    print(\"number is divisible 7\")\n",
    "else:\n",
    "    print(\"number is not divisible 7\")"
   ]
  },
  {
   "cell_type": "code",
   "execution_count": 4,
   "id": "28c290b1",
   "metadata": {},
   "outputs": [],
   "source": [
    "# Write a program to display \"Hello\" if a number entered by user is a multiple of five , otherwise print \"Bye\""
   ]
  },
  {
   "cell_type": "code",
   "execution_count": 6,
   "id": "6dc31a74",
   "metadata": {},
   "outputs": [
    {
     "name": "stdout",
     "output_type": "stream",
     "text": [
      "enter the number\n",
      "55\n",
      "hello\n"
     ]
    }
   ],
   "source": [
    "print('enter the number')\n",
    "num=int(input())\n",
    "if(num % 5==0):\n",
    "    print('hello')\n",
    "else:    \n",
    "    print('Bye')"
   ]
  },
  {
   "cell_type": "code",
   "execution_count": 7,
   "id": "03c39b8e",
   "metadata": {},
   "outputs": [],
   "source": [
    "# Write a program to check whether a person is eligible for voting or not"
   ]
  },
  {
   "cell_type": "code",
   "execution_count": 8,
   "id": "977f59b1",
   "metadata": {},
   "outputs": [
    {
     "name": "stdout",
     "output_type": "stream",
     "text": [
      "Enter the age of person\n",
      "21\n",
      "person is eligible for voting\n"
     ]
    }
   ],
   "source": [
    "print(\"Enter the age of person\")\n",
    "age = int (input())\n",
    "if(age>18):\n",
    "    print(\"person is eligible for voting\")\n",
    "else:\n",
    "    print(\"person is not eligible for voting\")"
   ]
  },
  {
   "cell_type": "code",
   "execution_count": 9,
   "id": "61363f5a",
   "metadata": {},
   "outputs": [],
   "source": [
    "# Write a program to check whether a number entered by user is even or odd"
   ]
  },
  {
   "cell_type": "code",
   "execution_count": 10,
   "id": "60e83595",
   "metadata": {},
   "outputs": [
    {
     "name": "stdout",
     "output_type": "stream",
     "text": [
      "Enter the number\n",
      "4\n",
      "nor even nor prime number\n"
     ]
    }
   ],
   "source": [
    "print(\"Enter the number\")\n",
    "number=int(input())\n",
    "if(number==0 or 1):\n",
    "    print(\"nor even nor prime number\")\n",
    "elif(number% 2 == 0):\n",
    "    print(\"number is even\")\n"
   ]
  },
  {
   "cell_type": "code",
   "execution_count": 13,
   "id": "0d34c6cc",
   "metadata": {},
   "outputs": [],
   "source": [
    "# Write a program to calculate the electricity bill (accept number of unit from user) according to the following criteria : Unit Price\n",
    "#First 100 units no charge Next 100 units Rs 5 per unit After 200 units Rs 10 per unit (For example if input unit is 350 than total bill amount is Rs2000"
   ]
  },
  {
   "cell_type": "code",
   "execution_count": 14,
   "id": "e4e3a6b9",
   "metadata": {},
   "outputs": [
    {
     "name": "stdout",
     "output_type": "stream",
     "text": [
      "Enter the number of unit\n",
      "125\n",
      "Electricty bill = 125\n"
     ]
    }
   ],
   "source": [
    "print(\"Enter the number of unit\")\n",
    "unit = int(input())\n",
    "if (unit<=100):\n",
    "    amount=0\n",
    "    print(\"Electricty bill =\",amount)\n",
    "elif (100<unit<=200):\n",
    "    amount=(unit-100)*5\n",
    "    print(\"Electricty bill =\",amount)\n",
    "elif (200<unit):\n",
    "    amount=(unit-200)*10+500\n",
    "    print(\"Electricty bill =\",amount)"
   ]
  },
  {
   "cell_type": "code",
   "execution_count": 15,
   "id": "272f3959",
   "metadata": {},
   "outputs": [],
   "source": [
    "# Write a program to display the last digit of a number. "
   ]
  },
  {
   "cell_type": "code",
   "execution_count": 16,
   "id": "32fe49f1",
   "metadata": {},
   "outputs": [
    {
     "name": "stdout",
     "output_type": "stream",
     "text": [
      "enter the two digit number\n",
      "45\n",
      "Unit digit is 5\n"
     ]
    }
   ],
   "source": [
    "print(\"enter the two digit number\")\n",
    "num1=int(input())\n",
    "print(\"Unit digit is\",num1%10)"
   ]
  },
  {
   "cell_type": "code",
   "execution_count": 17,
   "id": "b9466995",
   "metadata": {},
   "outputs": [],
   "source": [
    "# Write a program to accept percentage from the user and display the grade according to the following criteria"
   ]
  },
  {
   "cell_type": "code",
   "execution_count": 18,
   "id": "1e9df703",
   "metadata": {},
   "outputs": [
    {
     "name": "stdout",
     "output_type": "stream",
     "text": [
      "Enter the Percentage\n",
      "60\n",
      "Grade D\n"
     ]
    }
   ],
   "source": [
    "print(\"Enter the Percentage\")\n",
    "percent = float (input())\n",
    "if (percent>90.00):\n",
    "    print (\"Grade A\")\n",
    "elif(80<percent<=90.00):\n",
    "    print (\"Grade B\")\n",
    "elif(60<percent<=80.00):\n",
    "    print (\"Grade C\")\n",
    "elif(percent<=60.00):\n",
    "    print (\"Grade D\")    "
   ]
  },
  {
   "cell_type": "code",
   "execution_count": 19,
   "id": "cff8a3ad",
   "metadata": {},
   "outputs": [
    {
     "ename": "IndentationError",
     "evalue": "unexpected indent (Temp/ipykernel_9828/2865397973.py, line 3)",
     "output_type": "error",
     "traceback": [
      "\u001b[1;36m  File \u001b[1;32m\"C:\\Users\\YASHOD~1\\AppData\\Local\\Temp/ipykernel_9828/2865397973.py\"\u001b[1;36m, line \u001b[1;32m3\u001b[0m\n\u001b[1;33m    Cost price (in Rs)                 Tax\u001b[0m\n\u001b[1;37m    ^\u001b[0m\n\u001b[1;31mIndentationError\u001b[0m\u001b[1;31m:\u001b[0m unexpected indent\n"
     ]
    }
   ],
   "source": [
    "# Write a program to accept the cost price of a bike and display the road tax to be paid according to the following criteria :\n",
    " \n",
    " Cost price (in Rs)                 Tax\n",
    " \n",
    " > 100000                           15%\n",
    " \n",
    " > 50000 and <= 100000              10%\n",
    " \n",
    " <= 50000                            5%"
   ]
  },
  {
   "cell_type": "code",
   "execution_count": 20,
   "id": "15f15076",
   "metadata": {},
   "outputs": [
    {
     "name": "stdout",
     "output_type": "stream",
     "text": [
      "Enter the cost price of bike\n",
      "4000\n",
      "Road tax is 200.0\n"
     ]
    }
   ],
   "source": [
    "print(\"Enter the cost price of bike\")\n",
    "cp=int(input())\n",
    "if(100000<cp):\n",
    "    rt=float(cp * 0.15)\n",
    "    print(\"Road tax is\", rt)\n",
    "elif(100000>=cp>50000):\n",
    "    rt=float(cp * 0.10)\n",
    "    print(\"Road tax is\", rt) \n",
    "elif(50000>=cp):\n",
    "    rt=float(cp * 0.05)\n",
    "    print(\"Road tax is\", rt)    "
   ]
  },
  {
   "cell_type": "code",
   "execution_count": 21,
   "id": "25a9b06b",
   "metadata": {},
   "outputs": [],
   "source": [
    "# Write a program to check whether an years is leap year or not"
   ]
  },
  {
   "cell_type": "code",
   "execution_count": 22,
   "id": "e3be32a9",
   "metadata": {},
   "outputs": [
    {
     "name": "stdout",
     "output_type": "stream",
     "text": [
      "Enter the year\n",
      "1700\n",
      "Year is not leap year\n"
     ]
    }
   ],
   "source": [
    "print(\"Enter the year\")\n",
    "year = int(input())\n",
    "if(year%100==0):\n",
    "    if(year%400==0):\n",
    "        print(\"Year is leap year\")\n",
    "    else:\n",
    "        print(\"Year is not leap year\")  \n",
    "elif(year%4==0):\n",
    "    print(\"Year is leap year\")\n",
    "else:\n",
    "    print(\"Year is not leap year\")"
   ]
  },
  {
   "cell_type": "code",
   "execution_count": 23,
   "id": "286a6f1d",
   "metadata": {},
   "outputs": [],
   "source": [
    "# Write a program to accept a number from 1 to 7 and display the name of the day like 1 for Sunday , 2 for Monday and so on"
   ]
  },
  {
   "cell_type": "code",
   "execution_count": 24,
   "id": "139ee7c8",
   "metadata": {},
   "outputs": [
    {
     "name": "stdout",
     "output_type": "stream",
     "text": [
      "enter number \n",
      "5\n",
      "Friday\n"
     ]
    }
   ],
   "source": [
    "print(\"enter number \")\n",
    "num=int(input())\n",
    "if(0<num<8):\n",
    "    if(num==1):\n",
    "        print(\"Monday\")\n",
    "    elif(num==2):\n",
    "        print(\"Tuesday\")\n",
    "    elif(num==3):\n",
    "        print(\"Wednesday\")\n",
    "    elif(num==4):\n",
    "        print(\"Thrusday\")\n",
    "    elif(num==5):\n",
    "        print(\"Friday\")\n",
    "    elif(num==6):\n",
    "        print(\"Saturday\")    \n",
    "    elif(num==7):\n",
    "        print(\"Sunday\")\n",
    "else:\n",
    "    print(\"invalid input\")\n",
    "    \n",
    "  "
   ]
  },
  {
   "cell_type": "code",
   "execution_count": null,
   "id": "ea3ec5ce",
   "metadata": {},
   "outputs": [],
   "source": [
    "# Accept any city from the user and display monument of that city.\n",
    "\n",
    "          City                                 Monument\n",
    "          \n",
    "          Delhi                               Red Fort\n",
    "          \n",
    "          Agra                                Taj Mahal\n",
    "          \n",
    "          Jaipur                              Jal Mahal"
   ]
  },
  {
   "cell_type": "code",
   "execution_count": 26,
   "id": "f51eeaf4",
   "metadata": {},
   "outputs": [
    {
     "name": "stdout",
     "output_type": "stream",
     "text": [
      "Enter the city\n",
      "Delhi\n",
      "Red Fort\n"
     ]
    }
   ],
   "source": [
    "print(\"Enter the city\")\n",
    "city=str(input())\n",
    "if(city==\"Delhi\"):\n",
    "    print(\"Red Fort\")\n",
    "elif(city==\"Agra\"):\n",
    "    print(\"Taj Mahal\")\n",
    "elif(city==\"Jaipur\"):\n",
    "    print(\"Jal Mahal\")\n",
    "else:\n",
    "    print(\"Invalid Input\")\n",
    " \n"
   ]
  },
  {
   "cell_type": "code",
   "execution_count": null,
   "id": "d1977285",
   "metadata": {},
   "outputs": [],
   "source": [
    "# Write a program to check whether a person is senior citizen or not"
   ]
  },
  {
   "cell_type": "code",
   "execution_count": 27,
   "id": "258b4842",
   "metadata": {},
   "outputs": [
    {
     "name": "stdout",
     "output_type": "stream",
     "text": [
      "Enter the age of person\n",
      "21\n",
      "person is not senior citizen\n"
     ]
    }
   ],
   "source": [
    "print(\"Enter the age of person\")\n",
    "age=int(input())\n",
    "if(age>60):\n",
    "    print(\"Person is senior citizen\")\n",
    "else:\n",
    "    print(\"person is not senior citizen\")\n",
    "    "
   ]
  },
  {
   "cell_type": "code",
   "execution_count": null,
   "id": "0f53e766",
   "metadata": {},
   "outputs": [],
   "source": [
    "# Write a program to whether a number (accepted from user) is divisible by 2 and 3 both"
   ]
  },
  {
   "cell_type": "code",
   "execution_count": 28,
   "id": "3afdd2fe",
   "metadata": {},
   "outputs": [
    {
     "name": "stdout",
     "output_type": "stream",
     "text": [
      "enter the number\n",
      "21\n",
      "entered number is not divisible by 2 & 3\n"
     ]
    }
   ],
   "source": [
    "print(\"enter the number\")\n",
    "num=int(input())\n",
    "if(num%2==0 and num%3==0):\n",
    "    print(\"entered number is divisible by 2 & 3\")\n",
    "else:\n",
    "    print(\"entered number is not divisible by 2 & 3\")\n",
    "    "
   ]
  },
  {
   "cell_type": "code",
   "execution_count": null,
   "id": "3f8377ae",
   "metadata": {},
   "outputs": [],
   "source": [
    "# Write a program to check whether a number (accepted from user) is positive or negative"
   ]
  },
  {
   "cell_type": "code",
   "execution_count": 29,
   "id": "60542aab",
   "metadata": {},
   "outputs": [
    {
     "name": "stdout",
     "output_type": "stream",
     "text": [
      "enter the number\n",
      "45\n",
      "entered number is positive\n"
     ]
    }
   ],
   "source": [
    "print(\"enter the number\")\n",
    "num=int(input())\n",
    "if (num>=0):\n",
    "    print(\"entered number is positive\")\n",
    "else:\n",
    "    print(\"entered number is negative\")"
   ]
  },
  {
   "cell_type": "code",
   "execution_count": null,
   "id": "72fba8d5",
   "metadata": {},
   "outputs": [],
   "source": [
    "# Accept the age of 4 people and display the youngest one"
   ]
  },
  {
   "cell_type": "code",
   "execution_count": 30,
   "id": "7b4ce626",
   "metadata": {},
   "outputs": [
    {
     "name": "stdout",
     "output_type": "stream",
     "text": [
      "Enter the age of 4 persons\n",
      "21\n",
      "54\n",
      "54\n",
      "52\n",
      "54\n"
     ]
    }
   ],
   "source": [
    "print(\"Enter the age of 4 persons\")\n",
    "\n",
    "a=int(input())\n",
    "b=int(input())\n",
    "c=int(input())\n",
    "d=int(input())\n",
    "age=[a,b,c,d]\n",
    "\n",
    "print(max(age))\n"
   ]
  },
  {
   "cell_type": "code",
   "execution_count": null,
   "id": "13e5cc84",
   "metadata": {},
   "outputs": [],
   "source": [
    "# Write a program to check a character is vowel or not."
   ]
  },
  {
   "cell_type": "code",
   "execution_count": 32,
   "id": "004aa874",
   "metadata": {},
   "outputs": [
    {
     "name": "stdout",
     "output_type": "stream",
     "text": [
      "Enter the character\n",
      "Nonea\n",
      "enter char is a vowel\n"
     ]
    }
   ],
   "source": [
    "a=str(input(print(\"Enter the character\")))\n",
    "list=['A','E','I','O','U','a','e','i','o','u']\n",
    "if len(a)==1:\n",
    "    if a in list:\n",
    "        print(\"enter char is a vowel\")\n",
    "    else:\n",
    "        print(\"enter char is a consonant\")\n",
    "else:\n",
    "    print(\"Invalid input\")"
   ]
  },
  {
   "cell_type": "code",
   "execution_count": null,
   "id": "525c1ca4",
   "metadata": {},
   "outputs": [],
   "source": [
    "# Accept the following from the user and calculate the percentage of class attended"
   ]
  },
  {
   "cell_type": "code",
   "execution_count": 33,
   "id": "256e6011",
   "metadata": {},
   "outputs": [
    {
     "name": "stdout",
     "output_type": "stream",
     "text": [
      "total number of working days\n",
      "None45\n",
      "total number of absent days\n",
      "None12\n",
      "Student is not allowed to sit in exam\n"
     ]
    }
   ],
   "source": [
    "a=int(input(print(\"total number of working days\")))\n",
    "b=int(input(print(\"total number of absent days\")))\n",
    "precent=((a-b)/a)*100\n",
    "if (precent<75):\n",
    "    print(\"Student is not allowed to sit in exam\")"
   ]
  },
  {
   "cell_type": "code",
   "execution_count": null,
   "id": "d02a66c1",
   "metadata": {},
   "outputs": [],
   "source": [
    "# Accept three sides of a triangle and check whether it is an equilateral, isosceles or scalene triangle."
   ]
  },
  {
   "cell_type": "code",
   "execution_count": 34,
   "id": "c06fa3b4",
   "metadata": {},
   "outputs": [
    {
     "name": "stdout",
     "output_type": "stream",
     "text": [
      "Enter the sides to the triangle\n",
      "21\n",
      "12\n",
      "15\n",
      "It is an Scalene Triangle\n"
     ]
    }
   ],
   "source": [
    "print(\"Enter the sides to the triangle\")\n",
    "a=int(input())\n",
    "b=int(input())\n",
    "c=int(input())\n",
    "if (a==b==c):\n",
    "    print(\"It is an Equilateral Triangle\")\n",
    "elif (a==b or b==c or a==c):\n",
    "    print(\"It is an isosceles Triangle\")\n",
    "else:\n",
    "    print(\"It is an Scalene Triangle\")    "
   ]
  },
  {
   "cell_type": "code",
   "execution_count": null,
   "id": "74b1533e",
   "metadata": {},
   "outputs": [],
   "source": [
    "# Accept three sides of triangle and check whether the triangle is possible or not.\n",
    "(triangle is possible only when sum of any two sides is greater than 3rd side)"
   ]
  },
  {
   "cell_type": "code",
   "execution_count": 35,
   "id": "7c49137d",
   "metadata": {},
   "outputs": [
    {
     "name": "stdout",
     "output_type": "stream",
     "text": [
      "Enter the sides to the triangle\n",
      "12\n",
      "4\n",
      "6\n",
      "the triangle is possible\n"
     ]
    }
   ],
   "source": [
    "print(\"Enter the sides to the triangle\")\n",
    "a=int(input())\n",
    "b=int(input())\n",
    "c=int(input())\n",
    "if( ((a+b)>c) or ((b+c)>a) or ((a+c)>b) ):\n",
    "    print(\"the triangle is possible\")"
   ]
  },
  {
   "cell_type": "code",
   "execution_count": 36,
   "id": "0d1a2393",
   "metadata": {},
   "outputs": [],
   "source": [
    "# Write A program to accept Four digit number from user and count zero , odd and even digits from the entered number"
   ]
  },
  {
   "cell_type": "code",
   "execution_count": 40,
   "id": "83cbf0d8",
   "metadata": {},
   "outputs": [
    {
     "name": "stdout",
     "output_type": "stream",
     "text": [
      "Enter the numbers1235446\n",
      "invalid input\n"
     ]
    }
   ],
   "source": [
    "count_of_zero=0\n",
    "count_of_odd=0\n",
    "count_of_even=0\n",
    "n =str(input(\"Enter the numbers\"))\n",
    "if len(n)==4:\n",
    "    for i in str(n):\n",
    "        i=int(i)\n",
    "        if(i==0):\n",
    "            count_of_zero+=1\n",
    "        elif(i%2==0):\n",
    "            count_of_even+=1\n",
    "        elif(i%2 !=0):\n",
    "            count_of_odd+= 1\n",
    "    print(\"number of zeors in entered number\",count_of_zero)\n",
    "    print(\"number of odd number in entered number\",count_of_even)\n",
    "    print(\"number of even numbers in entered number\",count_of_odd)            \n",
    "else:\n",
    "    print(\"invalid input\")"
   ]
  },
  {
   "cell_type": "code",
   "execution_count": null,
   "id": "ea10eac7",
   "metadata": {},
   "outputs": [],
   "source": [
    "# Write a Python program to find those numbers which are divisible by 7 and multiple of 5, between 1500 and 2700"
   ]
  },
  {
   "cell_type": "code",
   "execution_count": 42,
   "id": "6031b895",
   "metadata": {},
   "outputs": [
    {
     "name": "stdout",
     "output_type": "stream",
     "text": [
      "Enter the no=1750\n",
      " true\n"
     ]
    }
   ],
   "source": [
    "a=int(input(\"Enter the no=\"))\n",
    "if a in range(1499,2701):\n",
    "    if(a%7==0 and a%5==0):\n",
    "        print(\" true\")\n",
    "    else:\n",
    "        print(\"False\")\n"
   ]
  },
  {
   "cell_type": "code",
   "execution_count": null,
   "id": "759498a5",
   "metadata": {},
   "outputs": [],
   "source": [
    "# Write a Python program to convert temperatures to and from celsius, fahrenheit. Go to the editor \n",
    "[ Formula : c/5 = f-32/9 [ where c = temperature in celsius and f = temperature in fahrenheit ] Expected Output : 60°C is 140 in Fahrenheit 45°F is 7 in Celsius"
   ]
  },
  {
   "cell_type": "code",
   "execution_count": 43,
   "id": "a31daf8c",
   "metadata": {},
   "outputs": [
    {
     "name": "stdout",
     "output_type": "stream",
     "text": [
      " Enter temperature in Centigrade: 23\n",
      " Temperature in Fahrenheit is:  73.4\n",
      " Enter temperature in fahrenheit: 41\n",
      " Temperature in centigrade is:  5.0\n"
     ]
    }
   ],
   "source": [
    "c = float(input(\" Enter temperature in Centigrade: \"))\n",
    "f = (9*c/5)+32\n",
    "print(\" Temperature in Fahrenheit is: \", f)\n",
    "f = float(input(\" Enter temperature in fahrenheit: \"))\n",
    "c= 5*((f-32)/9)\n",
    "print(\" Temperature in centigrade is: \", c)\n"
   ]
  },
  {
   "cell_type": "code",
   "execution_count": null,
   "id": "b6677b2b",
   "metadata": {},
   "outputs": [],
   "source": [
    "# Write a Python program that accepts a word from the user and reverse it."
   ]
  },
  {
   "cell_type": "code",
   "execution_count": 44,
   "id": "ceb5f650",
   "metadata": {},
   "outputs": [
    {
     "name": "stdout",
     "output_type": "stream",
     "text": [
      "Entre wordsujit\n",
      "tijus\n"
     ]
    }
   ],
   "source": [
    "s1=str(input(\"Entre word\"))\n",
    "a=s1[::-1]\n",
    "print(a)"
   ]
  },
  {
   "cell_type": "code",
   "execution_count": null,
   "id": "1915c5db",
   "metadata": {},
   "outputs": [],
   "source": [
    "# Write a Python program to get the Fibonacci series between 0 to 50. Go to the editor\n",
    "Note : The Fibonacci Sequence is the series of numbers : 0, 1, 1, 2, 3, 5, 8, 13, 21, .... Every next number is found by adding up the two numbers before it. Expected Output : 1 1 2 3 5 8 13 21 34"
   ]
  },
  {
   "cell_type": "code",
   "execution_count": 45,
   "id": "414d1050",
   "metadata": {},
   "outputs": [
    {
     "name": "stdout",
     "output_type": "stream",
     "text": [
      "enter the number= 45\n",
      "0 1 1 2 3 5 8 13 21 34 "
     ]
    }
   ],
   "source": [
    "n=int(input(\"enter the number= \"))\n",
    "num1,num2= 0,1\n",
    "while(num1<n):\n",
    "    print(num1,end=\" \")\n",
    "    num=num1+num2\n",
    "    num1=num2\n",
    "    num2=num"
   ]
  },
  {
   "cell_type": "code",
   "execution_count": null,
   "id": "e5159cf0",
   "metadata": {},
   "outputs": [],
   "source": [
    "# Write a Python program to check whether an alphabet is a vowel or consonant."
   ]
  },
  {
   "cell_type": "code",
   "execution_count": 46,
   "id": "daa79d35",
   "metadata": {},
   "outputs": [
    {
     "name": "stdout",
     "output_type": "stream",
     "text": [
      "enter the Alpha bate= d\n",
      "It is Constant\n"
     ]
    }
   ],
   "source": [
    "a=(input(\"enter the Alpha bate= \"))\n",
    "list=['a','e','i','o','A','E','I','O','U']\n",
    "if a in list :\n",
    "    print(\"It is Vowel\")\n",
    "else:\n",
    "    print(\"It is Constant\")"
   ]
  },
  {
   "cell_type": "code",
   "execution_count": null,
   "id": "1ae8db90",
   "metadata": {},
   "outputs": [],
   "source": [
    "# Write a Python program to sum of two given integers. However, if the sum is between 15 to 20 it will return"
   ]
  },
  {
   "cell_type": "code",
   "execution_count": 47,
   "id": "9299f100",
   "metadata": {},
   "outputs": [
    {
     "name": "stdout",
     "output_type": "stream",
     "text": [
      "Enter value19\n",
      "Enter value14\n",
      "invalid input\n"
     ]
    }
   ],
   "source": [
    "a=int(input(\"Enter value\"))\n",
    "b=int(input(\"Enter value\"))\n",
    "sum= a+b\n",
    "if sum in range(14,21):\n",
    "    print(sum)\n",
    "else:\n",
    "    print(\"invalid input\")"
   ]
  },
  {
   "cell_type": "code",
   "execution_count": null,
   "id": "d7e3d98d",
   "metadata": {},
   "outputs": [],
   "source": [
    "# Write a program to accept ‘n’ numbers from user , store these numbers into an array. \n",
    " Find out maximum and minimum number from an Array"
   ]
  },
  {
   "cell_type": "code",
   "execution_count": 49,
   "id": "a525e62c",
   "metadata": {},
   "outputs": [
    {
     "name": "stdout",
     "output_type": "stream",
     "text": [
      "enter the size of array2\n",
      "Enter the list elements :\n",
      "5\n",
      "4\n",
      "maximum number=  5\n",
      "minimum number=  4\n"
     ]
    }
   ],
   "source": [
    "lst= []\n",
    "num=int(input(\"enter the size of array\"))\n",
    "print (\"Enter the list elements :\")\n",
    "for n in range(num):\n",
    "    numbers=int(input())\n",
    "    lst.append(numbers)\n",
    "print(\"maximum number= \",max (lst))  \n",
    "print(\"minimum number= \",min (lst))  "
   ]
  },
  {
   "cell_type": "code",
   "execution_count": null,
   "id": "dc4224b9",
   "metadata": {},
   "outputs": [],
   "source": [
    "# Write a program to accept ‘n’ numbers from user , store these numbers into an array and sort the numbers of an array using function"
   ]
  },
  {
   "cell_type": "code",
   "execution_count": 50,
   "id": "21944f7a",
   "metadata": {},
   "outputs": [
    {
     "name": "stdout",
     "output_type": "stream",
     "text": [
      "enter the number of elements =5\n",
      "1\n",
      "2\n",
      "3\n",
      "4\n",
      "5\n"
     ]
    },
    {
     "data": {
      "text/plain": [
       "[1, 2, 3, 4, 5]"
      ]
     },
     "execution_count": 50,
     "metadata": {},
     "output_type": "execute_result"
    }
   ],
   "source": [
    "lst1=[]\n",
    "num=int (input(\"enter the number of elements =\"))\n",
    "for n in range(num):\n",
    "    numbers= int(input())\n",
    "    lst1.append(numbers)\n",
    "lst1.sort()\n",
    "lst1\n"
   ]
  },
  {
   "cell_type": "code",
   "execution_count": null,
   "id": "71ce9b7a",
   "metadata": {},
   "outputs": [],
   "source": [
    "# Write a program to accept 5 names from user and store these names into an array sort these array element in alphabetical order"
   ]
  },
  {
   "cell_type": "code",
   "execution_count": 51,
   "id": "a7aae488",
   "metadata": {},
   "outputs": [
    {
     "name": "stdout",
     "output_type": "stream",
     "text": [
      "ball\n",
      "sk\n",
      "john\n",
      "raj\n",
      "sahil\n"
     ]
    },
    {
     "data": {
      "text/plain": [
       "['ball', 'john', 'raj', 'sahil', 'sk']"
      ]
     },
     "execution_count": 51,
     "metadata": {},
     "output_type": "execute_result"
    }
   ],
   "source": [
    "str1 = []\n",
    "for n in range(5):\n",
    "    name=str(input())\n",
    "    str1.append(name)\n",
    "str1.sort()    \n",
    "str1    \n",
    "    "
   ]
  },
  {
   "cell_type": "code",
   "execution_count": null,
   "id": "5ef53139",
   "metadata": {},
   "outputs": [],
   "source": [
    "# Write a program to calculate the sum of digits of a given number"
   ]
  },
  {
   "cell_type": "code",
   "execution_count": 60,
   "id": "5fbbbee4",
   "metadata": {},
   "outputs": [
    {
     "name": "stdout",
     "output_type": "stream",
     "text": [
      "123456\n"
     ]
    },
    {
     "ename": "TypeError",
     "evalue": "'int' object is not callable",
     "output_type": "error",
     "traceback": [
      "\u001b[1;31m---------------------------------------------------------------------------\u001b[0m",
      "\u001b[1;31mTypeError\u001b[0m                                 Traceback (most recent call last)",
      "\u001b[1;32mC:\\Users\\YASHOD~1\\AppData\\Local\\Temp/ipykernel_9828/3764772899.py\u001b[0m in \u001b[0;36m<module>\u001b[1;34m\u001b[0m\n\u001b[0;32m      7\u001b[0m     \u001b[1;32mfor\u001b[0m \u001b[0mi\u001b[0m \u001b[1;32min\u001b[0m \u001b[0mS\u001b[0m\u001b[1;33m:\u001b[0m\u001b[1;33m\u001b[0m\u001b[1;33m\u001b[0m\u001b[0m\n\u001b[0;32m      8\u001b[0m         \u001b[0ml1\u001b[0m\u001b[1;33m.\u001b[0m\u001b[0mappend\u001b[0m\u001b[1;33m(\u001b[0m\u001b[0mint\u001b[0m\u001b[1;33m(\u001b[0m\u001b[0mi\u001b[0m\u001b[1;33m)\u001b[0m\u001b[1;33m)\u001b[0m\u001b[1;33m\u001b[0m\u001b[1;33m\u001b[0m\u001b[0m\n\u001b[1;32m----> 9\u001b[1;33m     \u001b[0mprint\u001b[0m\u001b[1;33m(\u001b[0m\u001b[0msum\u001b[0m\u001b[1;33m(\u001b[0m\u001b[0ml1\u001b[0m\u001b[1;33m)\u001b[0m\u001b[1;33m)\u001b[0m\u001b[1;33m\u001b[0m\u001b[1;33m\u001b[0m\u001b[0m\n\u001b[0m",
      "\u001b[1;31mTypeError\u001b[0m: 'int' object is not callable"
     ]
    }
   ],
   "source": [
    "n=int(input())\n",
    "l1=[]\n",
    "if (n<10):\n",
    "    print (\"digital sum=\",n)\n",
    "else:\n",
    "    S=str(n)\n",
    "    for i in S:\n",
    "        l1.append(int(i))\n",
    "    print(sum(l1))            "
   ]
  },
  {
   "cell_type": "code",
   "execution_count": null,
   "id": "6ec73939",
   "metadata": {},
   "outputs": [],
   "source": [
    "# Write a program to calculate the sum of first digit and last digit of a given number"
   ]
  },
  {
   "cell_type": "code",
   "execution_count": 61,
   "id": "618e7eab",
   "metadata": {},
   "outputs": [
    {
     "name": "stdout",
     "output_type": "stream",
     "text": [
      "12\n",
      "3\n"
     ]
    }
   ],
   "source": [
    "n= int(input())\n",
    "L=[]\n",
    "if (n<10):\n",
    "    print(\"Invalid input, please input two digit number\")\n",
    "else:\n",
    "    S=str(n)\n",
    "    for i in S:\n",
    "        L.append(int(i))\n",
    "    print(L[0]+L[-1])    "
   ]
  },
  {
   "cell_type": "code",
   "execution_count": null,
   "id": "1e3ea64e",
   "metadata": {},
   "outputs": [],
   "source": [
    "# Write a program to accept a string from user , delete all vowels from the string and display the result"
   ]
  },
  {
   "cell_type": "code",
   "execution_count": 62,
   "id": "f3c0376c",
   "metadata": {},
   "outputs": [
    {
     "name": "stdout",
     "output_type": "stream",
     "text": [
      "Enter the string sdewfwf\n",
      "sdwfwf\n"
     ]
    }
   ],
   "source": [
    "S=str(input(\"Enter the string \"))\n",
    "L=[]\n",
    "for i in S:\n",
    "    if i not in ('a','e','i','o','u','A','E','I','O','U'):\n",
    "        L.append(str(i))\n",
    "str1 = \"\"\n",
    "print (str1.join(L))    "
   ]
  },
  {
   "cell_type": "code",
   "execution_count": null,
   "id": "5638d350",
   "metadata": {},
   "outputs": [],
   "source": []
  },
  {
   "cell_type": "code",
   "execution_count": null,
   "id": "3507f9e2",
   "metadata": {},
   "outputs": [],
   "source": []
  },
  {
   "cell_type": "code",
   "execution_count": null,
   "id": "86c7b453",
   "metadata": {},
   "outputs": [],
   "source": []
  },
  {
   "cell_type": "code",
   "execution_count": null,
   "id": "b7cccec6",
   "metadata": {},
   "outputs": [],
   "source": []
  },
  {
   "cell_type": "code",
   "execution_count": null,
   "id": "be4cc6a6",
   "metadata": {},
   "outputs": [],
   "source": []
  },
  {
   "cell_type": "code",
   "execution_count": null,
   "id": "a6425286",
   "metadata": {},
   "outputs": [],
   "source": []
  },
  {
   "cell_type": "code",
   "execution_count": null,
   "id": "fc3f58bb",
   "metadata": {},
   "outputs": [],
   "source": []
  },
  {
   "cell_type": "code",
   "execution_count": null,
   "id": "e62e043d",
   "metadata": {},
   "outputs": [],
   "source": []
  },
  {
   "cell_type": "code",
   "execution_count": null,
   "id": "0621beda",
   "metadata": {},
   "outputs": [],
   "source": []
  },
  {
   "cell_type": "code",
   "execution_count": null,
   "id": "a6674475",
   "metadata": {},
   "outputs": [],
   "source": []
  },
  {
   "cell_type": "code",
   "execution_count": null,
   "id": "8e7b1c13",
   "metadata": {},
   "outputs": [],
   "source": []
  },
  {
   "cell_type": "code",
   "execution_count": null,
   "id": "c56f76ac",
   "metadata": {},
   "outputs": [],
   "source": []
  },
  {
   "cell_type": "code",
   "execution_count": null,
   "id": "8887e7fb",
   "metadata": {},
   "outputs": [],
   "source": []
  },
  {
   "cell_type": "code",
   "execution_count": null,
   "id": "305eaca9",
   "metadata": {},
   "outputs": [],
   "source": []
  },
  {
   "cell_type": "code",
   "execution_count": null,
   "id": "f6d0d2e1",
   "metadata": {},
   "outputs": [],
   "source": []
  },
  {
   "cell_type": "code",
   "execution_count": null,
   "id": "56472080",
   "metadata": {},
   "outputs": [],
   "source": []
  }
 ],
 "metadata": {
  "kernelspec": {
   "display_name": "Python 3 (ipykernel)",
   "language": "python",
   "name": "python3"
  },
  "language_info": {
   "codemirror_mode": {
    "name": "ipython",
    "version": 3
   },
   "file_extension": ".py",
   "mimetype": "text/x-python",
   "name": "python",
   "nbconvert_exporter": "python",
   "pygments_lexer": "ipython3",
   "version": "3.9.7"
  }
 },
 "nbformat": 4,
 "nbformat_minor": 5
}
