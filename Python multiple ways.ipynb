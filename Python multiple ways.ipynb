{
 "cells": [
  {
   "cell_type": "markdown",
   "id": "047f2655",
   "metadata": {},
   "source": [
    "# Python program to interchange first and last elements in a list\n",
    "Given a list, write a Python program to swap first and last element of the list.\n",
    "Examples: \n",
    "Input : [12, 35, 9, 56, 24]\n",
    "Output : [24, 35, 9, 56, 12]\n",
    "\n",
    "Input : [1, 2, 3]\n",
    "Output : [3, 2, 1]"
   ]
  },
  {
   "cell_type": "code",
   "execution_count": 3,
   "id": "1166703e",
   "metadata": {},
   "outputs": [
    {
     "data": {
      "text/plain": [
       "[5, 2, 3, 4, 1]"
      ]
     },
     "execution_count": 3,
     "metadata": {},
     "output_type": "execute_result"
    }
   ],
   "source": [
    "l1=[1,2,3,4,5]\n",
    "l1[0],l1[-1]=l1[-1],l1[0]\n",
    "l1"
   ]
  },
  {
   "cell_type": "code",
   "execution_count": 18,
   "id": "a36d6cd2",
   "metadata": {},
   "outputs": [
    {
     "name": "stdout",
     "output_type": "stream",
     "text": [
      "[9, 35, 12, 56, 24]\n"
     ]
    }
   ],
   "source": [
    "a=[12,35,9,56,24]\n",
    "\n",
    "length = len(a)\n",
    "length = len(b)\n",
    "\n",
    "temp = a[0]\n",
    "a[0] = a[length - 1]\n",
    "a[length - 1] = temp\n",
    "\n",
    "print(a)"
   ]
  },
  {
   "cell_type": "code",
   "execution_count": null,
   "id": "c8c63fc1",
   "metadata": {},
   "outputs": [],
   "source": [
    "I = [12, 35, 9, 56, 24]\n",
    "p=I[-1]\n",
    "s=I.pop(0)\n",
    "q=I.pop()\n",
    "I.append(s)\n",
    "I.insert(0,p)\n",
    "print(I)\n"
   ]
  },
  {
   "cell_type": "markdown",
   "id": "ff1ffe18",
   "metadata": {},
   "source": [
    "# WAP to find length of list\n",
    "The list is : [1, 4, 5, 7, 8]\n",
    "Length of list is : 5\n"
   ]
  },
  {
   "cell_type": "code",
   "execution_count": 9,
   "id": "1e01fb57",
   "metadata": {},
   "outputs": [
    {
     "name": "stdout",
     "output_type": "stream",
     "text": [
      "Length of list is :  5\n"
     ]
    }
   ],
   "source": [
    "l1=[1, 4, 5, 7, 8]\n",
    "print(\"Length of list is : \",len(l1))"
   ]
  },
  {
   "cell_type": "code",
   "execution_count": 15,
   "id": "00702540",
   "metadata": {},
   "outputs": [
    {
     "name": "stdout",
     "output_type": "stream",
     "text": [
      "Length of list is :  7\n"
     ]
    }
   ],
   "source": [
    "l1=[1, 4, 5, 7, 8, 9]\n",
    "print(\"Length of list is : \",l1.index()+1)"
   ]
  },
  {
   "cell_type": "code",
   "execution_count": 11,
   "id": "efdacc3c",
   "metadata": {},
   "outputs": [
    {
     "name": "stdout",
     "output_type": "stream",
     "text": [
      "Length of list is :  5\n"
     ]
    }
   ],
   "source": [
    "l1=[1, 4, 5, 7, 8]\n",
    "count=0\n",
    "for i in l1:\n",
    "    count+=1\n",
    "print(\"Length of list is : \",count)"
   ]
  },
  {
   "cell_type": "markdown",
   "id": "40067c93",
   "metadata": {},
   "source": [
    "# WAP to Check if element exists in list \n",
    "\n",
    "Checking if 4 exists in list : \n",
    "Element Exists\n"
   ]
  },
  {
   "cell_type": "code",
   "execution_count": 19,
   "id": "600e8e97",
   "metadata": {},
   "outputs": [
    {
     "name": "stdout",
     "output_type": "stream",
     "text": [
      "Element Exists\n"
     ]
    }
   ],
   "source": [
    "l1=[1, 4, 5, 7, 8]\n",
    "n=4\n",
    "if 4 in l1:print(\"Element Exists\")"
   ]
  },
  {
   "cell_type": "code",
   "execution_count": 26,
   "id": "c8cf0b9a",
   "metadata": {},
   "outputs": [
    {
     "name": "stdout",
     "output_type": "stream",
     "text": [
      "Element Exists\n"
     ]
    }
   ],
   "source": [
    "l1=[1, 4, 5, 7, 8]\n",
    "for i in range(len(l1)):\n",
    "    if l1[i]==4:print(\"Element Exists\")"
   ]
  },
  {
   "cell_type": "markdown",
   "id": "c9fc1abd",
   "metadata": {},
   "source": [
    "# WAP to clear a list\n",
    "before clear: [6, 0, 4, 1]\n"
   ]
  },
  {
   "cell_type": "code",
   "execution_count": 33,
   "id": "491c0263",
   "metadata": {},
   "outputs": [
    {
     "data": {
      "text/plain": [
       "[]"
      ]
     },
     "execution_count": 33,
     "metadata": {},
     "output_type": "execute_result"
    }
   ],
   "source": [
    "l1=[1, 4, 5, 7, 8]\n",
    "l1.clear()\n",
    "l1"
   ]
  },
  {
   "cell_type": "code",
   "execution_count": 38,
   "id": "ab9b2f3c",
   "metadata": {},
   "outputs": [
    {
     "data": {
      "text/plain": [
       "[]"
      ]
     },
     "execution_count": 38,
     "metadata": {},
     "output_type": "execute_result"
    }
   ],
   "source": [
    "l1=[1, 4, 5, 7, 8]\n",
    "for i in range (len(l1)):\n",
    "    l1.remove(l1[-1])\n",
    "l1"
   ]
  },
  {
   "cell_type": "code",
   "execution_count": 81,
   "id": "37303b08",
   "metadata": {},
   "outputs": [
    {
     "data": {
      "text/plain": [
       "[]"
      ]
     },
     "execution_count": 81,
     "metadata": {},
     "output_type": "execute_result"
    }
   ],
   "source": [
    "l1=[1, 4, 5, 7, 8]\n",
    "for i in range (len(l1)):\n",
    "    l1.pop()\n",
    "l1"
   ]
  },
  {
   "cell_type": "code",
   "execution_count": 84,
   "id": "c8f90edb",
   "metadata": {},
   "outputs": [
    {
     "data": {
      "text/plain": [
       "[]"
      ]
     },
     "execution_count": 84,
     "metadata": {},
     "output_type": "execute_result"
    }
   ],
   "source": [
    "l1=[1, 4, 5, 7, 8]\n",
    "l1=[]\n",
    "l1"
   ]
  },
  {
   "cell_type": "code",
   "execution_count": 85,
   "id": "f812fd26",
   "metadata": {},
   "outputs": [
    {
     "data": {
      "text/plain": [
       "[]"
      ]
     },
     "execution_count": 85,
     "metadata": {},
     "output_type": "execute_result"
    }
   ],
   "source": [
    "l1=[1, 4, 5, 7, 8]\n",
    "l1*=0\n",
    "l1"
   ]
  },
  {
   "cell_type": "markdown",
   "id": "5974c329",
   "metadata": {},
   "source": [
    "# WAP to Reversing a List\n",
    "Input : list = [10, 11, 12, 13, 14, 15]\n",
    "Output : [15, 14, 13, 12, 11, 10]\n",
    " \n",
    "Input : list = [4, 5, 6, 7, 8, 9]\n",
    "Output : [9, 8, 7, 6, 5, 4]\n"
   ]
  },
  {
   "cell_type": "code",
   "execution_count": 44,
   "id": "7a332c95",
   "metadata": {},
   "outputs": [
    {
     "data": {
      "text/plain": [
       "[15, 14, 13, 12, 11, 10]"
      ]
     },
     "execution_count": 44,
     "metadata": {},
     "output_type": "execute_result"
    }
   ],
   "source": [
    "l1 = [10, 11, 12, 13, 14, 15]\n",
    "l1.reverse()\n",
    "l1"
   ]
  },
  {
   "cell_type": "code",
   "execution_count": 45,
   "id": "9886d447",
   "metadata": {},
   "outputs": [
    {
     "data": {
      "text/plain": [
       "[15, 14, 13, 12, 11, 10]"
      ]
     },
     "execution_count": 45,
     "metadata": {},
     "output_type": "execute_result"
    }
   ],
   "source": [
    "l1 = [10, 11, 12, 13, 14, 15]\n",
    "for i in range(len(l1)):\n",
    "    a=l1.pop()\n",
    "    l1.insert(i,a)\n",
    "l1"
   ]
  },
  {
   "cell_type": "code",
   "execution_count": 46,
   "id": "8a10c45a",
   "metadata": {},
   "outputs": [
    {
     "name": "stdout",
     "output_type": "stream",
     "text": [
      "[15, 14, 13, 12, 11, 10]\n"
     ]
    }
   ],
   "source": [
    "a=[10, 11, 12, 13, 14, 15]\n",
    "if len(a)%2!=0:\n",
    "    c=1\n",
    "    for i in range(round(len(a)/2)-1):\n",
    "            a[i]=a[i]+a[len(a)-c]\n",
    "            a[len(a)-c]=a[i]-a[len(a)-c]\n",
    "            a[i]=a[i]-a[len(a)-c]\n",
    "            c+=1\n",
    "else:\n",
    "    c=1\n",
    "    for i in range(round(len(a)/2)):\n",
    "            a[i]=a[i]+a[len(a)-c]\n",
    "            a[len(a)-c]=a[i]-a[len(a)-c]\n",
    "            a[i]=a[i]-a[len(a)-c]\n",
    "            c+=1\n",
    "print(a)\n"
   ]
  },
  {
   "cell_type": "markdown",
   "id": "5e49f7e4",
   "metadata": {},
   "source": [
    "# Given a list of numbers, write a Python program to find the sum of all the elements in the list.\n",
    "Example: \n",
    " \n",
    "Input: [12, 15, 3, 10]\n",
    "Output: 40\n",
    " \n",
    "Input: [17, 5, 3, 5]\n",
    "Output: 30\n"
   ]
  },
  {
   "cell_type": "code",
   "execution_count": 47,
   "id": "facb70af",
   "metadata": {},
   "outputs": [
    {
     "name": "stdout",
     "output_type": "stream",
     "text": [
      "40\n"
     ]
    }
   ],
   "source": [
    "l1=[12, 15, 3, 10]\n",
    "print(sum(l1))"
   ]
  },
  {
   "cell_type": "code",
   "execution_count": 48,
   "id": "6f678055",
   "metadata": {},
   "outputs": [
    {
     "name": "stdout",
     "output_type": "stream",
     "text": [
      "40\n"
     ]
    }
   ],
   "source": [
    "l1=[12, 15, 3, 10]\n",
    "sum1=0\n",
    "for i in l1:\n",
    "    sum1+=i\n",
    "print(sum1)"
   ]
  },
  {
   "cell_type": "markdown",
   "id": "c1d3d383",
   "metadata": {},
   "source": [
    "# Given a list of numbers, the task is to write a Python program to find the second largest number in the given list.\n",
    "Examples: \n",
    "Input: list1 = [10, 20, 4]\n",
    "Output: 10\n",
    "Input: list2 = [70, 11, 20, 4, 100]\n",
    "Output: 70\n"
   ]
  },
  {
   "cell_type": "code",
   "execution_count": 69,
   "id": "35e8a6b7",
   "metadata": {},
   "outputs": [
    {
     "data": {
      "text/plain": [
       "70"
      ]
     },
     "execution_count": 69,
     "metadata": {},
     "output_type": "execute_result"
    }
   ],
   "source": [
    "list1 = [70, 11, 20, 4, 100] \n",
    "list1.sort()\n",
    "list1[-2]"
   ]
  },
  {
   "cell_type": "code",
   "execution_count": 50,
   "id": "b339a1dd",
   "metadata": {},
   "outputs": [
    {
     "name": "stdout",
     "output_type": "stream",
     "text": [
      "70\n"
     ]
    }
   ],
   "source": [
    "list1 = [70, 11, 20, 4, 100] \n",
    "list2=list1\n",
    "list2.remove(max(list2))\n",
    "print(max(list2))"
   ]
  },
  {
   "cell_type": "code",
   "execution_count": 72,
   "id": "c4d5b09c",
   "metadata": {},
   "outputs": [
    {
     "data": {
      "text/plain": [
       "70"
      ]
     },
     "execution_count": 72,
     "metadata": {},
     "output_type": "execute_result"
    }
   ],
   "source": [
    "list1 = [70, 11, 20, 4, 100, 100] \n",
    "list2=list(set(list1))\n",
    "list2.sort()\n",
    "list2.pop()\n",
    "list2[-1]"
   ]
  },
  {
   "cell_type": "markdown",
   "id": "ed340f5b",
   "metadata": {},
   "source": [
    "# Given a list of integers, the task is to find N largest elements assuming size of list is greater than or equal o N.\n",
    "Examples :\n",
    "Input : [4, 5, 1, 2, 9] \n",
    "        N = 2\n",
    "Output :  [9, 5]\n",
    " \n",
    "Input : [81, 52, 45, 10, 3, 2, 96] \n",
    "        N = 3\n",
    "Output : [81, 96, 52]\n"
   ]
  },
  {
   "cell_type": "code",
   "execution_count": 80,
   "id": "32b2658d",
   "metadata": {},
   "outputs": [
    {
     "name": "stdout",
     "output_type": "stream",
     "text": [
      "3\n"
     ]
    },
    {
     "data": {
      "text/plain": [
       "[52, 81, 96]"
      ]
     },
     "execution_count": 80,
     "metadata": {},
     "output_type": "execute_result"
    }
   ],
   "source": [
    "l1=[81, 52, 45, 10, 3, 2, 96] \n",
    "n=int(input())    #4\n",
    "l2=list(set(l1))\n",
    "l2.sort()\n",
    "l2[-(n):]"
   ]
  },
  {
   "cell_type": "code",
   "execution_count": 87,
   "id": "1566afe9",
   "metadata": {},
   "outputs": [
    {
     "name": "stdout",
     "output_type": "stream",
     "text": [
      "4\n"
     ]
    },
    {
     "data": {
      "text/plain": [
       "[96, 81, 52, 45]"
      ]
     },
     "execution_count": 87,
     "metadata": {},
     "output_type": "execute_result"
    }
   ],
   "source": [
    "l1=[81, 52, 45, 10, 3, 2, 96] \n",
    "n=int(input())\n",
    "l2=list(set(l1))\n",
    "l2.sort()\n",
    "l3=[]\n",
    "for i in range(n):\n",
    "    a=l2.pop()\n",
    "    l3.append(a)\n",
    "l3\n",
    "    "
   ]
  },
  {
   "cell_type": "code",
   "execution_count": 89,
   "id": "f81560b2",
   "metadata": {},
   "outputs": [
    {
     "name": "stdout",
     "output_type": "stream",
     "text": [
      "4\n"
     ]
    },
    {
     "data": {
      "text/plain": [
       "[45, 52, 81, 96]"
      ]
     },
     "execution_count": 89,
     "metadata": {},
     "output_type": "execute_result"
    }
   ],
   "source": [
    "l1=[81, 52, 45, 10, 3, 2, 96] \n",
    "n=int(input())\n",
    "l2=list(set(l1))\n",
    "l2.sort()\n",
    "l3=[]\n",
    "for i in range(len(l2)-n,len(l2)):\n",
    "    l3.append(l2[i])\n",
    "l3\n",
    "    "
   ]
  },
  {
   "cell_type": "code",
   "execution_count": 90,
   "id": "db976a17",
   "metadata": {},
   "outputs": [
    {
     "name": "stdout",
     "output_type": "stream",
     "text": [
      "3\n",
      "[96, 81, 52]\n"
     ]
    }
   ],
   "source": [
    "n=int(input())\n",
    "l1=[81, 52, 45, 10, 3, 2, 96] \n",
    "l1=sorted(l1,reverse=True)\n",
    "\n",
    "l2=[]\n",
    "for i in range(n):\n",
    "    l2.append(l1[i])\n",
    "print(l2)\n"
   ]
  },
  {
   "cell_type": "markdown",
   "id": "258bf13f",
   "metadata": {},
   "source": []
  },
  {
   "cell_type": "code",
   "execution_count": null,
   "id": "9651b8ac",
   "metadata": {},
   "outputs": [],
   "source": []
  },
  {
   "cell_type": "code",
   "execution_count": null,
   "id": "680647c8",
   "metadata": {},
   "outputs": [],
   "source": []
  },
  {
   "cell_type": "code",
   "execution_count": null,
   "id": "a13096a9",
   "metadata": {},
   "outputs": [],
   "source": []
  },
  {
   "cell_type": "code",
   "execution_count": null,
   "id": "13e82e93",
   "metadata": {},
   "outputs": [],
   "source": []
  },
  {
   "cell_type": "code",
   "execution_count": null,
   "id": "33dc6642",
   "metadata": {},
   "outputs": [],
   "source": []
  }
 ],
 "metadata": {
  "kernelspec": {
   "display_name": "Python 3 (ipykernel)",
   "language": "python",
   "name": "python3"
  },
  "language_info": {
   "codemirror_mode": {
    "name": "ipython",
    "version": 3
   },
   "file_extension": ".py",
   "mimetype": "text/x-python",
   "name": "python",
   "nbconvert_exporter": "python",
   "pygments_lexer": "ipython3",
   "version": "3.9.7"
  }
 },
 "nbformat": 4,
 "nbformat_minor": 5
}
