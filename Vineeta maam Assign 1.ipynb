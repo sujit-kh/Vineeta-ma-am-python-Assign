{
 "cells": [
  {
   "cell_type": "code",
   "execution_count": null,
   "id": "14145b66",
   "metadata": {},
   "outputs": [],
   "source": [
    "### 1.Given a two list. Create athird list by picking an odd-index element from the first list and even indexelements from the second."
   ]
  },
  {
   "cell_type": "code",
   "execution_count": 1,
   "id": "a59b0d2b",
   "metadata": {},
   "outputs": [
    {
     "name": "stdout",
     "output_type": "stream",
     "text": [
      "Elements at odd-index position from list1\n",
      " [6, 12, 18]\n",
      "Elements at even-index position from list2\n",
      " [4, 12, 20, 28]\n",
      "Printing Final third list\n",
      " [6, 12, 18, 4, 12, 20, 28]\n"
     ]
    }
   ],
   "source": [
    "list1 = [3, 6, 9, 12, 15, 18, 21]\n",
    "list2 = [4, 8, 12, 16, 20, 24, 28]\n",
    "list3 = []\n",
    "list4 = []\n",
    "for i in range(0,len(list1)):\n",
    "    if(i%2!=0):\n",
    "        list3.append(list1[i])\n",
    "for j in range(0,len(list2)):\n",
    "    if(j%2==0):\n",
    "        list4.append(list2[j])\n",
    "print(\"Elements at odd-index position from list1\\n\",list3)\n",
    "print(\"Elements at even-index position from list2\\n\",list4)\n",
    "print(\"Printing Final third list\\n\",list3+list4)"
   ]
  },
  {
   "cell_type": "code",
   "execution_count": 2,
   "id": "bf6f2bae",
   "metadata": {},
   "outputs": [
    {
     "name": "stdout",
     "output_type": "stream",
     "text": [
      "Printing Final list\n",
      " [6, 12, 18, 4, 12, 20, 28]\n"
     ]
    }
   ],
   "source": [
    "l1=[3, 6, 9, 12, 15, 18, 21]\n",
    "l2=[4, 8, 12, 16, 20, 24, 28]\n",
    "l3=[]\n",
    "for i in l1[1::2]:\n",
    "    l3.append(i)\n",
    "for j in l2[0::2]:\n",
    "    l3.append(j)\n",
    "print(\"Printing Final list\\n\",l3)"
   ]
  },
  {
   "cell_type": "code",
   "execution_count": null,
   "id": "06b4e954",
   "metadata": {},
   "outputs": [],
   "source": [
    "### 2.Given a number count the total number of digits in a number"
   ]
  },
  {
   "cell_type": "code",
   "execution_count": 3,
   "id": "e7857131",
   "metadata": {},
   "outputs": [
    {
     "name": "stdout",
     "output_type": "stream",
     "text": [
      "Enter the number: 6468945\n",
      "Enter the digit to count: 4\n",
      "2\n"
     ]
    }
   ],
   "source": [
    "n=int(input(\"Enter the number: \"))\n",
    "num=n\n",
    "a=int(input(\"Enter the digit to count: \"))\n",
    "l=[]\n",
    "while(num>0):\n",
    "    digit=num%10\n",
    "    l.append(digit)\n",
    "    num=num//10\n",
    "print(l.count(a))"
   ]
  },
  {
   "cell_type": "code",
   "execution_count": 4,
   "id": "226bab99",
   "metadata": {},
   "outputs": [
    {
     "name": "stdout",
     "output_type": "stream",
     "text": [
      "Enter the number: 46528516\n",
      "Total number of digits 8\n"
     ]
    }
   ],
   "source": [
    "n=input(\"Enter the number: \")\n",
    "print(\"Total number of digits\",len(n))"
   ]
  },
  {
   "cell_type": "code",
   "execution_count": null,
   "id": "0f4fc9d8",
   "metadata": {},
   "outputs": [],
   "source": [
    "### 3.Write a Python program to print the numbers of a specified list after removing even numbers from it. "
   ]
  },
  {
   "cell_type": "code",
   "execution_count": 5,
   "id": "015c31dd",
   "metadata": {},
   "outputs": [
    {
     "name": "stdout",
     "output_type": "stream",
     "text": [
      "[11, 13, 16, 17, 19]\n"
     ]
    }
   ],
   "source": [
    "a=[10,11,12,13,14,16,18,17,19,20]\n",
    "for i in(a):\n",
    "    if(i%2==0):\n",
    "        a.remove(i)\n",
    "print(a)"
   ]
  },
  {
   "cell_type": "code",
   "execution_count": null,
   "id": "981d503a",
   "metadata": {},
   "outputs": [],
   "source": [
    "### 4.Write a Python program to generate and print a list of\n",
    "##### first and last 5 elements where the values are square of numbers between 1 and  30 (both included)."
   ]
  },
  {
   "cell_type": "code",
   "execution_count": 6,
   "id": "cbf90c3c",
   "metadata": {},
   "outputs": [
    {
     "name": "stdout",
     "output_type": "stream",
     "text": [
      "[1, 4, 9, 16, 25]\n",
      "[676, 729, 784, 841, 900]\n"
     ]
    }
   ],
   "source": [
    "a=[]\n",
    "for i in range(1,31):\n",
    "    a.append(i**2)\n",
    "print(a[:5])\n",
    "print(a[len(a)-5:])"
   ]
  },
  {
   "cell_type": "code",
   "execution_count": 10,
   "id": "11e278bd",
   "metadata": {},
   "outputs": [],
   "source": [
    "a=[1,2,3,4,5,6,7,8,9,8,7,6,5,4,3,2,1]\n",
    "list1=[]\n",
    "for i in (a[:5]):\n",
    "    n=i**2\n",
    "    if(1<=n<=900):\n",
    "        list1.append(i)\n",
    "    "
   ]
  },
  {
   "cell_type": "code",
   "execution_count": null,
   "id": "13e0a9cd",
   "metadata": {},
   "outputs": [],
   "source": [
    "### 5.Write a Python program to generate all permutations of a list in Python."
   ]
  },
  {
   "cell_type": "code",
   "execution_count": 11,
   "id": "06adc976",
   "metadata": {},
   "outputs": [
    {
     "name": "stdout",
     "output_type": "stream",
     "text": [
      "[1, 2, 3, 4]\n",
      "[1, 2, 4, 3]\n",
      "[1, 3, 2, 4]\n",
      "[1, 3, 4, 2]\n",
      "[1, 4, 2, 3]\n",
      "[1, 4, 3, 2]\n",
      "[2, 1, 3, 4]\n",
      "[2, 1, 4, 3]\n",
      "[2, 3, 1, 4]\n",
      "[2, 3, 4, 1]\n",
      "[2, 4, 1, 3]\n",
      "[2, 4, 3, 1]\n",
      "[3, 1, 2, 4]\n",
      "[3, 1, 4, 2]\n",
      "[3, 2, 1, 4]\n",
      "[3, 2, 4, 1]\n",
      "[3, 4, 1, 2]\n",
      "[3, 4, 2, 1]\n",
      "[4, 1, 2, 3]\n",
      "[4, 1, 3, 2]\n",
      "[4, 2, 1, 3]\n",
      "[4, 2, 3, 1]\n",
      "[4, 3, 1, 2]\n",
      "[4, 3, 2, 1]\n"
     ]
    }
   ],
   "source": [
    "L1=[1,2,3,4]\n",
    "def permutations(start, end=[]):\n",
    "    if len(start) == 0:\n",
    "        print(end)\n",
    "    else:\n",
    "        for i in range(len(start)):\n",
    "            permutations(start[:i] + start[i+1:], end + start[i:i+1])\n",
    "permutations(L1)"
   ]
  },
  {
   "cell_type": "code",
   "execution_count": null,
   "id": "12203248",
   "metadata": {},
   "outputs": [],
   "source": [
    "### 6.Write a python program to check whether two lists are circularly identical."
   ]
  },
  {
   "cell_type": "code",
   "execution_count": 12,
   "id": "3e305abc",
   "metadata": {},
   "outputs": [
    {
     "name": "stdout",
     "output_type": "stream",
     "text": [
      "[0, 1, 2, 3, 4, 5] and [0, 1, 2, 3, 4, 5] are Circularly identical\n"
     ]
    }
   ],
   "source": [
    "a=[3,4,5,0,1,2]\n",
    "b=[0,1,2,3,4,5]\n",
    "c=0\n",
    "d=0\n",
    "while True:\n",
    "    e=a[0]\n",
    "    a.pop(0)\n",
    "    a.append(e)\n",
    "    d=len(b)\n",
    "    c+=1\n",
    "    if a==b:\n",
    "        print (a,'and',b,'are Circularly identical')\n",
    "        break\n",
    "    if c==d:\n",
    "        print (a,'and',b,'are Not circularly identical')\n",
    "        break\n"
   ]
  },
  {
   "cell_type": "code",
   "execution_count": null,
   "id": "5867df8f",
   "metadata": {},
   "outputs": [],
   "source": [
    "### 7.Write a Python program to \n",
    "change the position of every n-th value with the (n+1)th in a\n",
    "list. "
   ]
  },
  {
   "cell_type": "code",
   "execution_count": 13,
   "id": "5b07f48b",
   "metadata": {},
   "outputs": [
    {
     "name": "stdout",
     "output_type": "stream",
     "text": [
      "[1, 0, 3, 2, 5, 4] "
     ]
    }
   ],
   "source": [
    "list=[0,1,2,3,4,5]\n",
    "for i in range(0,5):\n",
    "    for j in range(0,i+1):\n",
    "        list[i],list[i+1]=list[i+1],list[i]\n",
    "print(list,end=\" \")"
   ]
  },
  {
   "cell_type": "code",
   "execution_count": null,
   "id": "52fe560a",
   "metadata": {},
   "outputs": [],
   "source": [
    "### 8.Write a Python program to iterate over two lists simultaneously.  "
   ]
  },
  {
   "cell_type": "code",
   "execution_count": 14,
   "id": "257212fd",
   "metadata": {},
   "outputs": [
    {
     "data": {
      "text/plain": [
       "[1, 6, 2, 7, 3, 8, 4, 9, 5, 10]"
      ]
     },
     "execution_count": 14,
     "metadata": {},
     "output_type": "execute_result"
    }
   ],
   "source": [
    "a = [1,2,3,4,5]\n",
    "b = [6,7,8,9,10]\n",
    "c = []\n",
    "j= 0 \n",
    "for i in a:\n",
    "    c.append(i)\n",
    "    \n",
    "    c.append(b[j])\n",
    "    j +=1\n",
    "c"
   ]
  },
  {
   "cell_type": "code",
   "execution_count": null,
   "id": "b6e9a308",
   "metadata": {},
   "outputs": [],
   "source": [
    "### 9.Write a Python program to generate the combinations of n distinct objects taken from the elements of a given list.\n",
    "##### Original list: [1, 2, 3, 4, 5, 6, 7, 8, 9] Combinations of 2 distinct objects  [1, 2] [1, 3] [1, 4] [1, 5] .... [7, 8] [7, 9] [8, 9]"
   ]
  },
  {
   "cell_type": "code",
   "execution_count": 15,
   "id": "a242f0d3",
   "metadata": {},
   "outputs": [
    {
     "name": "stdout",
     "output_type": "stream",
     "text": [
      "Original List [1, 2, 3, 4, 5, 6, 7, 8, 9]\n",
      "Combination of 2 distinct objects:\n",
      " [[1, 2], [1, 3], [1, 4], [1, 5], [1, 6], [1, 7], [1, 8], [1, 9], [2, 3], [2, 4], [2, 5], [2, 6], [2, 7], [2, 8], [2, 9], [3, 4], [3, 5], [3, 6], [3, 7], [3, 8], [3, 9], [4, 5], [4, 6], [4, 7], [4, 8], [4, 9], [5, 6], [5, 7], [5, 8], [5, 9], [6, 7], [6, 8], [6, 9], [7, 8], [7, 9], [8, 9]]\n"
     ]
    }
   ],
   "source": [
    "list1=[1,2,3,4,5,6,7,8,9]\n",
    "list2=[]\n",
    "for i in  list1:\n",
    "    for j in (list1[i:]):\n",
    "        a=[]\n",
    "        if i==j:\n",
    "            continue\n",
    "        a.append(i)\n",
    "        a.append(j)\n",
    "        list2.append(a)\n",
    "print(\"Original List\",list1)\n",
    "print(\"Combination of 2 distinct objects:\\n\",list2)"
   ]
  },
  {
   "cell_type": "code",
   "execution_count": 16,
   "id": "c38b18ae",
   "metadata": {},
   "outputs": [],
   "source": [
    "### 10.Write a Python program to remove duplicates from a list of lists."
   ]
  },
  {
   "cell_type": "code",
   "execution_count": 17,
   "id": "65ba3c5c",
   "metadata": {},
   "outputs": [
    {
     "name": "stdout",
     "output_type": "stream",
     "text": [
      "list with duplicates [[10, 20], [10, 20], [30, 56, 25], [33], [40], [40]]\n",
      "List without duplicates [[10, 20], [30, 56, 25], [33], [40]]\n"
     ]
    }
   ],
   "source": [
    "l1=[[10,20],[40],[30,56,25],[10,20],[33],[40]]\n",
    "l1=sorted(l1)\n",
    "l2=[]\n",
    "for i in l1:\n",
    "    if i not in l2:\n",
    "        l2.append(i)\n",
    "print(\"list with duplicates\",l1)\n",
    "print(\"List without duplicates\",l2)"
   ]
  },
  {
   "cell_type": "code",
   "execution_count": null,
   "id": "af4f0c1e",
   "metadata": {},
   "outputs": [],
   "source": []
  }
 ],
 "metadata": {
  "kernelspec": {
   "display_name": "Python 3 (ipykernel)",
   "language": "python",
   "name": "python3"
  },
  "language_info": {
   "codemirror_mode": {
    "name": "ipython",
    "version": 3
   },
   "file_extension": ".py",
   "mimetype": "text/x-python",
   "name": "python",
   "nbconvert_exporter": "python",
   "pygments_lexer": "ipython3",
   "version": "3.9.7"
  }
 },
 "nbformat": 4,
 "nbformat_minor": 5
}
