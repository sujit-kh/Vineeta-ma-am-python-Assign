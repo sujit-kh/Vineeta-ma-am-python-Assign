{
 "cells": [
  {
   "cell_type": "markdown",
   "id": "4e55eb15",
   "metadata": {},
   "source": [
    "### Python practice"
   ]
  },
  {
   "cell_type": "code",
   "execution_count": 1,
   "id": "60645369",
   "metadata": {},
   "outputs": [
    {
     "name": "stdout",
     "output_type": "stream",
     "text": [
      "30\n"
     ]
    }
   ],
   "source": [
    "a=10\n",
    "b=20\n",
    "c=a+b\n",
    "print(c)"
   ]
  },
  {
   "cell_type": "code",
   "execution_count": 3,
   "id": "acc8435b",
   "metadata": {},
   "outputs": [
    {
     "data": {
      "text/plain": [
       "bool"
      ]
     },
     "execution_count": 3,
     "metadata": {},
     "output_type": "execute_result"
    }
   ],
   "source": [
    "a=True\n",
    "type(a)"
   ]
  },
  {
   "cell_type": "code",
   "execution_count": 4,
   "id": "bd383315",
   "metadata": {},
   "outputs": [
    {
     "data": {
      "text/plain": [
       "3.3333333333333335"
      ]
     },
     "execution_count": 4,
     "metadata": {},
     "output_type": "execute_result"
    }
   ],
   "source": [
    "a=10\n",
    "b=3\n",
    "c=a/b\n",
    "c"
   ]
  },
  {
   "cell_type": "code",
   "execution_count": 5,
   "id": "bf4f8abd",
   "metadata": {},
   "outputs": [
    {
     "data": {
      "text/plain": [
       "float"
      ]
     },
     "execution_count": 5,
     "metadata": {},
     "output_type": "execute_result"
    }
   ],
   "source": [
    "type(c)"
   ]
  },
  {
   "cell_type": "code",
   "execution_count": 6,
   "id": "b5dcba7c",
   "metadata": {},
   "outputs": [
    {
     "name": "stdout",
     "output_type": "stream",
     "text": [
      "3 10\n"
     ]
    }
   ],
   "source": [
    "a,b=b,a\n",
    "print(a,b)"
   ]
  },
  {
   "cell_type": "code",
   "execution_count": 7,
   "id": "83a11a63",
   "metadata": {},
   "outputs": [
    {
     "name": "stdout",
     "output_type": "stream",
     "text": [
      "enter a number: 896\n"
     ]
    }
   ],
   "source": [
    "a=int(input(\"enter a number: \"))"
   ]
  },
  {
   "cell_type": "code",
   "execution_count": 10,
   "id": "94c06a0e",
   "metadata": {},
   "outputs": [
    {
     "name": "stdout",
     "output_type": "stream",
     "text": [
      "10\n"
     ]
    }
   ],
   "source": [
    "a=10\n",
    "b=2*5\n",
    "c=12-2\n",
    "print(c)"
   ]
  },
  {
   "cell_type": "code",
   "execution_count": 12,
   "id": "cf52c983",
   "metadata": {},
   "outputs": [
    {
     "name": "stdout",
     "output_type": "stream",
     "text": [
      "2614207015504\n",
      "2614207015504\n",
      "2614207015504\n"
     ]
    }
   ],
   "source": [
    "print(id(a))\n",
    "print(id(b))\n",
    "print(id(c))"
   ]
  },
  {
   "cell_type": "code",
   "execution_count": 14,
   "id": "36767d94",
   "metadata": {},
   "outputs": [
    {
     "name": "stdout",
     "output_type": "stream",
     "text": [
      "line1$ line2, line3. "
     ]
    }
   ],
   "source": [
    "print(\"line1\",end=\"$ \")\n",
    "print(\"line2\",end=\", \")\n",
    "print(\"line3\",end=\". \")"
   ]
  },
  {
   "cell_type": "code",
   "execution_count": 15,
   "id": "110a341d",
   "metadata": {},
   "outputs": [
    {
     "name": "stdout",
     "output_type": "stream",
     "text": [
      "-101\n"
     ]
    }
   ],
   "source": [
    "x=100\n",
    "print(~x)"
   ]
  },
  {
   "cell_type": "code",
   "execution_count": 19,
   "id": "8efd2394",
   "metadata": {},
   "outputs": [
    {
     "ename": "TypeError",
     "evalue": "bad operand type for unary ~: 'float'",
     "output_type": "error",
     "traceback": [
      "\u001b[1;31m---------------------------------------------------------------------------\u001b[0m",
      "\u001b[1;31mTypeError\u001b[0m                                 Traceback (most recent call last)",
      "\u001b[1;32mC:\\Users\\YASHOD~1\\AppData\\Local\\Temp/ipykernel_5540/2395265762.py\u001b[0m in \u001b[0;36m<module>\u001b[1;34m\u001b[0m\n\u001b[0;32m      1\u001b[0m \u001b[0my\u001b[0m\u001b[1;33m=\u001b[0m\u001b[1;36m12.4\u001b[0m\u001b[1;33m\u001b[0m\u001b[1;33m\u001b[0m\u001b[0m\n\u001b[1;32m----> 2\u001b[1;33m \u001b[0mprint\u001b[0m\u001b[1;33m(\u001b[0m\u001b[1;33m~\u001b[0m\u001b[0my\u001b[0m\u001b[1;33m)\u001b[0m\u001b[1;33m\u001b[0m\u001b[1;33m\u001b[0m\u001b[0m\n\u001b[0m",
      "\u001b[1;31mTypeError\u001b[0m: bad operand type for unary ~: 'float'"
     ]
    }
   ],
   "source": [
    "y=12.4\n",
    "print(~y)"
   ]
  },
  {
   "cell_type": "code",
   "execution_count": 21,
   "id": "305e43bd",
   "metadata": {},
   "outputs": [
    {
     "name": "stdout",
     "output_type": "stream",
     "text": [
      "1\n",
      "2\n",
      "3\n",
      "outside i is :  3\n"
     ]
    }
   ],
   "source": [
    "for i in range (1,4,1):\n",
    "    print(i)\n",
    "print(\"outside i is : \",i)"
   ]
  },
  {
   "cell_type": "code",
   "execution_count": 22,
   "id": "d5bb370c",
   "metadata": {},
   "outputs": [
    {
     "name": "stdout",
     "output_type": "stream",
     "text": [
      "1\n",
      "1.5\n",
      "2.0\n",
      "2.5\n",
      "3.0\n",
      "outside i :  3.5\n"
     ]
    }
   ],
   "source": [
    "i=1\n",
    "while i<=3:\n",
    "    print(i)\n",
    "    i+=0.5\n",
    "print(\"outside i : \",i)"
   ]
  },
  {
   "cell_type": "code",
   "execution_count": 23,
   "id": "3d1f508f",
   "metadata": {},
   "outputs": [
    {
     "name": "stdout",
     "output_type": "stream",
     "text": [
      "10\n",
      "20\n",
      "30\n",
      "40\n",
      "50\n"
     ]
    }
   ],
   "source": [
    "name=[10,20,30,40,50]\n",
    "for i in name:\n",
    "    print(i)\n",
    "    "
   ]
  },
  {
   "cell_type": "code",
   "execution_count": 24,
   "id": "ca8fab54",
   "metadata": {},
   "outputs": [
    {
     "name": "stdout",
     "output_type": "stream",
     "text": [
      "1\n",
      "3\n",
      "5\n",
      "7\n",
      "9\n",
      "11\n",
      "13\n",
      "15\n",
      "17\n",
      "19\n",
      "21\n"
     ]
    }
   ],
   "source": [
    "#for 1,3,5,7,8\n",
    "for i in range(1,22,2):\n",
    "    print(i)"
   ]
  },
  {
   "cell_type": "code",
   "execution_count": 25,
   "id": "844616b3",
   "metadata": {},
   "outputs": [
    {
     "name": "stdout",
     "output_type": "stream",
     "text": [
      "enter n:8\n",
      "1\n",
      "3\n",
      "5\n",
      "7\n"
     ]
    }
   ],
   "source": [
    "n=int(input(\"enter n:\"))\n",
    "for i in range(1,n+1,2):\n",
    "    print(i)"
   ]
  },
  {
   "cell_type": "code",
   "execution_count": 26,
   "id": "338f82e3",
   "metadata": {},
   "outputs": [
    {
     "name": "stdout",
     "output_type": "stream",
     "text": [
      "enter start: 5\n",
      "enter end2\n",
      "5\n",
      "4\n",
      "3\n",
      "2\n"
     ]
    }
   ],
   "source": [
    "start=int(input(\"enter start: \"))\n",
    "end=int(input(\"enter end\"))\n",
    "if start<end:\n",
    "    for i in range(start,end+1):\n",
    "        print(i)\n",
    "else:\n",
    "    for i in range(start,end-1,-1):\n",
    "        print(i)\n",
    "    "
   ]
  },
  {
   "cell_type": "code",
   "execution_count": 27,
   "id": "78000ba7",
   "metadata": {},
   "outputs": [
    {
     "name": "stdout",
     "output_type": "stream",
     "text": [
      "ok bye\n"
     ]
    }
   ],
   "source": [
    "for i in range(1,11):\n",
    "    pass\n",
    "\n",
    "print(\"ok bye\")"
   ]
  },
  {
   "cell_type": "code",
   "execution_count": 1,
   "id": "94774bd3",
   "metadata": {},
   "outputs": [
    {
     "name": "stdout",
     "output_type": "stream",
     "text": [
      "Enter data: 2\n",
      "Enter data: sdewf\n",
      "Enter data: efefw\n",
      "Enter data: 5595\n",
      "Enter data: 54+6\n",
      "Enter data: 984\n",
      "Enter data: 84+\n",
      "Enter data: \"\"\n",
      "Enter data: \n",
      "ok bye\n"
     ]
    }
   ],
   "source": [
    "while True:\n",
    "    i=input(\"Enter data: \")\n",
    "    if i==\"\":\n",
    "        break\n",
    "print(\"ok bye\")"
   ]
  },
  {
   "cell_type": "code",
   "execution_count": 2,
   "id": "d69f499c",
   "metadata": {},
   "outputs": [
    {
     "name": "stdout",
     "output_type": "stream",
     "text": [
      "enter data: 22\n",
      "enter data: 11\n",
      "enter data: 32.5\n",
      "enter data: 23.5\n",
      "enter data: 63.2\n",
      "enter data: \n",
      "sum is:  152.2\n"
     ]
    }
   ],
   "source": [
    "sum=0.0\n",
    "while True:\n",
    "    i=input(\"enter data: \")\n",
    "    if i=='':\n",
    "        break\n",
    "    sum+=float(i)\n",
    "    \n",
    "print('sum is: ',sum)\n",
    "        "
   ]
  },
  {
   "cell_type": "code",
   "execution_count": 1,
   "id": "0eb0669f",
   "metadata": {},
   "outputs": [
    {
     "name": "stdout",
     "output_type": "stream",
     "text": [
      "Enter data: 2\n",
      "Enter data: 3\n",
      "Enter data: 4\n",
      "Enter data: 5\n",
      "Enter data: \n",
      "Total elements: 4 Sum is : 6.0 Average: 3.5 Product: 15.0\n"
     ]
    }
   ],
   "source": [
    "sum=0.0\n",
    "product=1\n",
    "count=0\n",
    "tot=0\n",
    "while True:\n",
    "    i=input(\"Enter data: \")\n",
    "    if i=='':\n",
    "        break\n",
    "    count+=1\n",
    "    i=float(i)\n",
    "    tot+=i\n",
    "    if i%2==0:\n",
    "        sum+=i\n",
    "    else:\n",
    "        product*=i\n",
    "print(\"Total elements:\",count,\"Sum is :\",sum,\"Average:\",tot/count,\"Product:\",product)"
   ]
  },
  {
   "cell_type": "code",
   "execution_count": 12,
   "id": "23d4dbba",
   "metadata": {},
   "outputs": [
    {
     "name": "stdout",
     "output_type": "stream",
     "text": [
      "Armstrong numbers are: \n",
      "153\n",
      "370\n",
      "371\n",
      "407\n",
      "Total of 4 armstrong numbers\n"
     ]
    }
   ],
   "source": [
    "count=0\n",
    "print(\"Armstrong numbers are: \")\n",
    "for no in range(100,1000):\n",
    "    tno=no\n",
    "    sum=0\n",
    "    while tno>0:\n",
    "        d=tno%10\n",
    "        tno//=10\n",
    "        sum+=(d**3)\n",
    "    if sum==no:\n",
    "        count+=1\n",
    "        print(no)\n",
    "print(\"Total of\",count,\"armstrong numbers\")"
   ]
  },
  {
   "cell_type": "code",
   "execution_count": 2,
   "id": "b9c4742b",
   "metadata": {},
   "outputs": [
    {
     "name": "stdout",
     "output_type": "stream",
     "text": [
      "Enter the value123654\n",
      "reversed number is: 456321\n"
     ]
    }
   ],
   "source": [
    "### reverse the num\n",
    "num=int(input(\"Enter the value\"))\n",
    "\n",
    "reversed_num= 0\n",
    "\n",
    "while num !=0:\n",
    "    curr_digit = num%10\n",
    "    \n",
    "    reversed_num=10*reversed_num\n",
    "    reversed_num=reversed_num + curr_digit\n",
    "    \n",
    "    num=num//10\n",
    "    \n",
    "print(\"reversed number is: \"+str(reversed_num))\n",
    "\n",
    "\n",
    "    "
   ]
  },
  {
   "cell_type": "code",
   "execution_count": 16,
   "id": "f7b5d3eb",
   "metadata": {},
   "outputs": [
    {
     "name": "stdout",
     "output_type": "stream",
     "text": [
      "Enter the num: 36521452365\n",
      "Reversed Num is: 56325412563\n"
     ]
    }
   ],
   "source": [
    "def reverse(n):\n",
    "    if len(n)==0 :\n",
    "        return n\n",
    "    \n",
    "    return reverse(n[1:]) + n[0]\n",
    "num=int(input(\"Enter the num: \"))\n",
    "\n",
    "num_string = str(num)\n",
    "\n",
    "reversed_num = reverse(num_string)\n",
    "\n",
    "print(\"Reversed Num is: \"+ reversed_num)"
   ]
  },
  {
   "cell_type": "code",
   "execution_count": 17,
   "id": "cb6d35a1",
   "metadata": {},
   "outputs": [
    {
     "name": "stdout",
     "output_type": "stream",
     "text": [
      "Enter the number to check: 90\n",
      "checking done for:   0\n",
      "checking done for:   1\n",
      "checking done for:   2\n",
      "checking done for:   3\n",
      "checking done for:   5\n",
      "checking done for:   8\n",
      "checking done for:   13\n",
      "checking done for:   21\n",
      "checking done for:   34\n",
      "checking done for:   55\n",
      "checking done for:   89\n",
      "90 not print of series\n"
     ]
    }
   ],
   "source": [
    "n=int(input(\"Enter the number to check: \"))\n",
    "f0,f1,fn=0,1,0\n",
    "while True:\n",
    "    if n<fn:\n",
    "        print(n,\"not print of series\")\n",
    "        break\n",
    "    else:\n",
    "        if n==fn:\n",
    "            print(n,\"is part of series\")\n",
    "            break\n",
    "        print(\"checking done for:  \",fn)\n",
    "        fn=f0+f1\n",
    "        f0,f1=f1,fn"
   ]
  },
  {
   "cell_type": "code",
   "execution_count": 21,
   "id": "e9387e12",
   "metadata": {},
   "outputs": [
    {
     "name": "stdout",
     "output_type": "stream",
     "text": [
      "10001\n",
      "10101\n",
      "10201\n",
      "10301\n",
      "10401\n",
      "10501\n",
      "10601\n",
      "10701\n",
      "10801\n",
      "10901\n",
      "11011\n",
      "11111\n",
      "11211\n",
      "11311\n",
      "11411\n",
      "11511\n",
      "11611\n",
      "11711\n",
      "11811\n",
      "11911\n",
      "Total of 20 are palindrom\n"
     ]
    }
   ],
   "source": [
    "count=0\n",
    "for no in range(10000,12000):\n",
    "    tno=no\n",
    "    rno=0\n",
    "    while tno>0:\n",
    "        d=tno%10\n",
    "        tno//=10\n",
    "        rno=rno*10+d\n",
    "    if rno==no:\n",
    "        count+=1\n",
    "        print(no)\n",
    "print(\"Total of\",count,\"are palindrom\")"
   ]
  },
  {
   "cell_type": "code",
   "execution_count": 22,
   "id": "c675d478",
   "metadata": {},
   "outputs": [
    {
     "name": "stdout",
     "output_type": "stream",
     "text": [
      "1\n",
      "2\n",
      "done\n"
     ]
    }
   ],
   "source": [
    "i=1\n",
    "while i<=5:\n",
    "    if i==3:\n",
    "        break\n",
    "    print(i)\n",
    "    i+=1\n",
    "else:\n",
    "    print(\"else here\")\n",
    "print(\"done\")"
   ]
  },
  {
   "cell_type": "code",
   "execution_count": 23,
   "id": "190a6132",
   "metadata": {},
   "outputs": [
    {
     "name": "stdout",
     "output_type": "stream",
     "text": [
      "Enter char to start:a\n",
      "Enter chaar to end: g\n",
      "a \n",
      "a b \n",
      "a b c \n",
      "a b c d \n",
      "a b c d e \n",
      "a b c d e f \n",
      "a b c d e f g \n"
     ]
    }
   ],
   "source": [
    "start=input(\"Enter char to start:\")\n",
    "end=input(\"Enter chaar to end: \")\n",
    "\n",
    "for i in range(ord(start),ord(end)+1):\n",
    "    for j in range(ord(start),i+1):\n",
    "        print(chr(j),end=' ')\n",
    "    print()"
   ]
  },
  {
   "cell_type": "code",
   "execution_count": 25,
   "id": "9019f301",
   "metadata": {},
   "outputs": [
    {
     "name": "stdout",
     "output_type": "stream",
     "text": [
      "    1\n",
      "   12\n",
      "  123\n",
      " 1234\n",
      "12345\n"
     ]
    }
   ],
   "source": [
    "for i in range(1,6):\n",
    "    print(\" \"*(5-i),end='')\n",
    "    for j in range(1,i+1):\n",
    "        print(j,end='')\n",
    "    print()"
   ]
  },
  {
   "cell_type": "code",
   "execution_count": 26,
   "id": "4f0ebb21",
   "metadata": {},
   "outputs": [
    {
     "name": "stdout",
     "output_type": "stream",
     "text": [
      "enter n: 15\n",
      "1 \n",
      "2 3 \n",
      "4 5 6 \n",
      "7 8 9 10 \n",
      "11 12 13 14 15 \n",
      "\n",
      "\n",
      "\n",
      "\n",
      "\n",
      "\n",
      "\n",
      "\n",
      "\n"
     ]
    }
   ],
   "source": [
    "k=1\n",
    "i=1\n",
    "n=int(input(\"enter n: \"))\n",
    "while i<n:\n",
    "    j=1\n",
    "    while j<=i and k<=n:\n",
    "        print(k,end=' ')\n",
    "        k+=1\n",
    "        j+=1\n",
    "    i+=1\n",
    "    print(\"\")"
   ]
  },
  {
   "cell_type": "code",
   "execution_count": 29,
   "id": "8e61c6e6",
   "metadata": {},
   "outputs": [
    {
     "data": {
      "text/plain": [
       "set"
      ]
     },
     "execution_count": 29,
     "metadata": {},
     "output_type": "execute_result"
    }
   ],
   "source": [
    "a={}\n",
    "type(a)\n",
    "b={0}\n",
    "type(b)"
   ]
  },
  {
   "cell_type": "code",
   "execution_count": 1,
   "id": "796882fe",
   "metadata": {},
   "outputs": [
    {
     "name": "stdout",
     "output_type": "stream",
     "text": [
      "enter data: 22\n",
      "enter data: 11\n",
      "enter data: 89\n",
      "enter data: 12\n",
      "enter data: 24\n",
      "enter data: 25\n",
      "enter data: \n",
      "Total elements entered 6\n",
      "Average:  30.5\n",
      "List of elements are:\n",
      "89.0\n"
     ]
    }
   ],
   "source": [
    "a=[]\n",
    "while True:\n",
    "    e=input(\"enter data: \")\n",
    "    if e=='':\n",
    "        break\n",
    "    a.append(float(e))\n",
    "print(\"Total elements entered\",len(a))\n",
    "avg=sum(a)/len(a)\n",
    "print(\"Average: \",avg)\n",
    "print(\"List of elements are:\")\n",
    "for i in a:\n",
    "    if i>=avg:\n",
    "        print(i)"
   ]
  },
  {
   "cell_type": "code",
   "execution_count": 2,
   "id": "4ec26506",
   "metadata": {},
   "outputs": [
    {
     "name": "stdout",
     "output_type": "stream",
     "text": [
      "11 : 5\n",
      "22 : 2\n",
      "33 : 2\n",
      "44 : 1\n",
      "55 : 1\n",
      "66 : 1\n",
      "77 : 1\n",
      "88 : 1\n",
      "99 : 1\n"
     ]
    }
   ],
   "source": [
    "a=[11,22,33,11,44,22,55,66,11,77,11,88,99,11,33]\n",
    "aset=set(a)\n",
    "\n",
    "for i in sorted(aset):\n",
    "    print(i,\":\",a.count(i))"
   ]
  },
  {
   "cell_type": "code",
   "execution_count": 4,
   "id": "9dba6ee0",
   "metadata": {},
   "outputs": [],
   "source": [
    "a=[[22,11,3],[33,11,44],[66,22,4],[88,99,22]]"
   ]
  },
  {
   "cell_type": "code",
   "execution_count": 5,
   "id": "948be405",
   "metadata": {},
   "outputs": [
    {
     "name": "stdout",
     "output_type": "stream",
     "text": [
      "[3, 11, 22]\n",
      "[11, 33, 44]\n",
      "[4, 22, 66]\n",
      "[22, 88, 99]\n"
     ]
    }
   ],
   "source": [
    "for sublist in a:\n",
    "    print(sorted(sublist))"
   ]
  },
  {
   "cell_type": "code",
   "execution_count": 6,
   "id": "60d6c873",
   "metadata": {},
   "outputs": [
    {
     "name": "stdout",
     "output_type": "stream",
     "text": [
      "[22, 11, 3]\n",
      "[44, 33, 11]\n",
      "[66, 22, 4]\n",
      "[99, 88, 22]\n"
     ]
    }
   ],
   "source": [
    "for sublist in a:\n",
    "    print(sorted(sublist,reverse=True))"
   ]
  },
  {
   "cell_type": "code",
   "execution_count": 8,
   "id": "5fda2489",
   "metadata": {},
   "outputs": [],
   "source": [
    "import math"
   ]
  },
  {
   "cell_type": "code",
   "execution_count": 9,
   "id": "6b95dfeb",
   "metadata": {},
   "outputs": [
    {
     "name": "stdout",
     "output_type": "stream",
     "text": [
      "5.0\n",
      "10.0\n",
      "10.0\n",
      "5.0\n",
      "1.0\n"
     ]
    }
   ],
   "source": [
    "n=5\n",
    "for r in range(1,6):\n",
    "    print(math.factorial(n)/(math.factorial(n-r)*math.factorial(r)))"
   ]
  },
  {
   "cell_type": "code",
   "execution_count": 10,
   "id": "2ab77591",
   "metadata": {},
   "outputs": [
    {
     "name": "stdout",
     "output_type": "stream",
     "text": [
      "enter a number: 9\n",
      "enter a number: 0\n"
     ]
    },
    {
     "ename": "ZeroDivisionError",
     "evalue": "division by zero",
     "output_type": "error",
     "traceback": [
      "\u001b[1;31m---------------------------------------------------------------------------\u001b[0m",
      "\u001b[1;31mZeroDivisionError\u001b[0m                         Traceback (most recent call last)",
      "\u001b[1;32mC:\\Users\\YASHOD~1\\AppData\\Local\\Temp/ipykernel_8356/2977715162.py\u001b[0m in \u001b[0;36m<module>\u001b[1;34m\u001b[0m\n\u001b[0;32m      1\u001b[0m \u001b[0ma\u001b[0m\u001b[1;33m=\u001b[0m\u001b[0mint\u001b[0m\u001b[1;33m(\u001b[0m\u001b[0minput\u001b[0m\u001b[1;33m(\u001b[0m\u001b[1;34m\"enter a number: \"\u001b[0m\u001b[1;33m)\u001b[0m\u001b[1;33m)\u001b[0m\u001b[1;33m\u001b[0m\u001b[1;33m\u001b[0m\u001b[0m\n\u001b[0;32m      2\u001b[0m \u001b[0mb\u001b[0m\u001b[1;33m=\u001b[0m\u001b[0mint\u001b[0m\u001b[1;33m(\u001b[0m\u001b[0minput\u001b[0m\u001b[1;33m(\u001b[0m\u001b[1;34m\"enter a number: \"\u001b[0m\u001b[1;33m)\u001b[0m\u001b[1;33m)\u001b[0m\u001b[1;33m\u001b[0m\u001b[1;33m\u001b[0m\u001b[0m\n\u001b[1;32m----> 3\u001b[1;33m \u001b[0mc\u001b[0m\u001b[1;33m=\u001b[0m\u001b[0ma\u001b[0m\u001b[1;33m/\u001b[0m\u001b[0mb\u001b[0m\u001b[1;33m\u001b[0m\u001b[1;33m\u001b[0m\u001b[0m\n\u001b[0m\u001b[0;32m      4\u001b[0m \u001b[0mprint\u001b[0m\u001b[1;33m(\u001b[0m\u001b[1;34m\"C is\"\u001b[0m\u001b[1;33m,\u001b[0m\u001b[0mc\u001b[0m\u001b[1;33m)\u001b[0m\u001b[1;33m\u001b[0m\u001b[1;33m\u001b[0m\u001b[0m\n\u001b[0;32m      5\u001b[0m \u001b[1;33m\u001b[0m\u001b[0m\n",
      "\u001b[1;31mZeroDivisionError\u001b[0m: division by zero"
     ]
    }
   ],
   "source": [
    "a=int(input(\"enter a number: \"))\n",
    "b=int(input(\"enter a number: \"))\n",
    "c=a/b\n",
    "print(\"C is\",c)\n",
    "\n",
    "print(\"still trying to live life\")\n",
    "print(\"alive and kicking\")"
   ]
  },
  {
   "cell_type": "code",
   "execution_count": 11,
   "id": "e7f500a9",
   "metadata": {},
   "outputs": [
    {
     "name": "stdout",
     "output_type": "stream",
     "text": [
      "enter a number: 9\n",
      "enter a number: 0\n",
      "Exception\n",
      "by Amar sir\n",
      "still trying to live life\n",
      "alive and kicking\n"
     ]
    }
   ],
   "source": [
    "# we only trapping error not what type \n",
    "try:\n",
    "    a=int(input(\"enter a number: \"))\n",
    "    b=int(input(\"enter a number: \"))\n",
    "    c=a/b\n",
    "except Exception:\n",
    "    print(\"Exception\")\n",
    "    \n",
    "else:\n",
    "    print(\"C is\",c)\n",
    "finally:\n",
    "    print(\"by Amar sir\")\n",
    "\n",
    "\n",
    "print(\"still trying to live life\")\n",
    "print(\"alive and kicking\")"
   ]
  },
  {
   "cell_type": "code",
   "execution_count": 12,
   "id": "dd2fbba6",
   "metadata": {},
   "outputs": [
    {
     "name": "stdout",
     "output_type": "stream",
     "text": [
      "enter a number: 9\n",
      "enter a number: 0\n",
      "Exception: division by zero\n",
      "by Amar sir\n",
      "still trying to live life\n",
      "alive and kicking\n"
     ]
    }
   ],
   "source": [
    "# we only trapping error not what type \n",
    "try:\n",
    "    a=int(input(\"enter a number: \"))\n",
    "    b=int(input(\"enter a number: \"))\n",
    "    c=a/b\n",
    "except Exception as arg:\n",
    "    print(\"Exception:\",arg)\n",
    "    \n",
    "else:\n",
    "    print(\"C is\",c)\n",
    "finally:\n",
    "    print(\"by Amar sir\")\n",
    "print(\"still trying to live life\")\n",
    "print(\"alive and kicking\")"
   ]
  },
  {
   "cell_type": "code",
   "execution_count": 1,
   "id": "0c640000",
   "metadata": {},
   "outputs": [
    {
     "name": "stdout",
     "output_type": "stream",
     "text": [
      "enter a number: 9\n",
      "enter a number: 0\n",
      "Exception: division by zero\n",
      "by Amar sir\n",
      "still trying to live life\n",
      "alive and kicking\n"
     ]
    }
   ],
   "source": [
    "# we only trapping error not what type \n",
    "try:\n",
    "    a=int(input(\"enter a number: \"))\n",
    "    b=int(input(\"enter a number: \"))\n",
    "    c=a/b\n",
    "    print(\"C is\",c)\n",
    "except Exception as arg:\n",
    "    print(\"Exception:\",arg)\n",
    "\n",
    "finally:\n",
    "    print(\"by Amar sir\")\n",
    "print(\"still trying to live life\")\n",
    "print(\"alive and kicking\")"
   ]
  },
  {
   "cell_type": "code",
   "execution_count": 2,
   "id": "19461b8a",
   "metadata": {},
   "outputs": [
    {
     "name": "stdout",
     "output_type": "stream",
     "text": [
      "enter a number: 9\n",
      "enter a number: 0\n",
      "Exception: division by zero\n",
      "still trying to live life\n",
      "alive and kicking\n"
     ]
    }
   ],
   "source": [
    "# we only trapping error not what type \n",
    "try:\n",
    "    a=int(input(\"enter a number: \"))\n",
    "    b=int(input(\"enter a number: \"))\n",
    "    c=a/b\n",
    "    print(\"C is\",c)\n",
    "except Exception as arg:\n",
    "    print(\"Exception:\",arg)\n",
    "\n",
    "print(\"still trying to live life\")\n",
    "print(\"alive and kicking\")"
   ]
  },
  {
   "cell_type": "markdown",
   "id": "45d745ec",
   "metadata": {},
   "source": [
    "### CLass in python"
   ]
  },
  {
   "cell_type": "code",
   "execution_count": 28,
   "id": "6095f50c",
   "metadata": {},
   "outputs": [],
   "source": [
    "class A:\n",
    "    def myA(self):\n",
    "        print(\"hii i am from class A\")"
   ]
  },
  {
   "cell_type": "code",
   "execution_count": 29,
   "id": "0ae8273a",
   "metadata": {},
   "outputs": [],
   "source": [
    "#simple or single level\n",
    "class B(A):\n",
    "    def myB(self):\n",
    "        print(\"i am from B\")"
   ]
  },
  {
   "cell_type": "code",
   "execution_count": 30,
   "id": "dbb02952",
   "metadata": {},
   "outputs": [],
   "source": [
    "obj=B()"
   ]
  },
  {
   "cell_type": "code",
   "execution_count": 31,
   "id": "87ffadd1",
   "metadata": {},
   "outputs": [
    {
     "ename": "SyntaxError",
     "evalue": "invalid syntax (Temp/ipykernel_3504/1731120645.py, line 1)",
     "output_type": "error",
     "traceback": [
      "\u001b[1;36m  File \u001b[1;32m\"C:\\Users\\YASHOD~1\\AppData\\Local\\Temp/ipykernel_3504/1731120645.py\"\u001b[1;36m, line \u001b[1;32m1\u001b[0m\n\u001b[1;33m    obj.\u001b[0m\n\u001b[1;37m        ^\u001b[0m\n\u001b[1;31mSyntaxError\u001b[0m\u001b[1;31m:\u001b[0m invalid syntax\n"
     ]
    }
   ],
   "source": [
    "obj."
   ]
  },
  {
   "cell_type": "code",
   "execution_count": 32,
   "id": "236e3631",
   "metadata": {},
   "outputs": [],
   "source": [
    "class A:\n",
    "    def myA(self):\n",
    "        print(\"hii i am from class A\")\n",
    "class B(A):\n",
    "    def myB(self):\n",
    "        print(\"i am from B\")\n",
    "class C(B):\n",
    "    def myC(self):\n",
    "        print(\"C here hi\")\n",
    "    "
   ]
  },
  {
   "cell_type": "code",
   "execution_count": 33,
   "id": "213ff1d4",
   "metadata": {},
   "outputs": [],
   "source": [
    "obj=C()"
   ]
  },
  {
   "cell_type": "code",
   "execution_count": 38,
   "id": "0d8d568f",
   "metadata": {},
   "outputs": [
    {
     "ename": "SyntaxError",
     "evalue": "invalid syntax (Temp/ipykernel_3504/1731120645.py, line 1)",
     "output_type": "error",
     "traceback": [
      "\u001b[1;36m  File \u001b[1;32m\"C:\\Users\\YASHOD~1\\AppData\\Local\\Temp/ipykernel_3504/1731120645.py\"\u001b[1;36m, line \u001b[1;32m1\u001b[0m\n\u001b[1;33m    obj.\u001b[0m\n\u001b[1;37m        ^\u001b[0m\n\u001b[1;31mSyntaxError\u001b[0m\u001b[1;31m:\u001b[0m invalid syntax\n"
     ]
    }
   ],
   "source": [
    "obj."
   ]
  },
  {
   "cell_type": "code",
   "execution_count": null,
   "id": "a6fa26f1",
   "metadata": {},
   "outputs": [],
   "source": []
  },
  {
   "cell_type": "code",
   "execution_count": null,
   "id": "ce3282f1",
   "metadata": {},
   "outputs": [],
   "source": []
  },
  {
   "cell_type": "code",
   "execution_count": null,
   "id": "2c8de956",
   "metadata": {},
   "outputs": [],
   "source": []
  },
  {
   "cell_type": "code",
   "execution_count": null,
   "id": "1c2f0f87",
   "metadata": {},
   "outputs": [],
   "source": []
  }
 ],
 "metadata": {
  "kernelspec": {
   "display_name": "Python 3 (ipykernel)",
   "language": "python",
   "name": "python3"
  },
  "language_info": {
   "codemirror_mode": {
    "name": "ipython",
    "version": 3
   },
   "file_extension": ".py",
   "mimetype": "text/x-python",
   "name": "python",
   "nbconvert_exporter": "python",
   "pygments_lexer": "ipython3",
   "version": "3.9.7"
  }
 },
 "nbformat": 4,
 "nbformat_minor": 5
}
