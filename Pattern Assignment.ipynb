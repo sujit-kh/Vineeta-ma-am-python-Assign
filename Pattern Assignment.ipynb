{
 "cells": [
  {
   "cell_type": "code",
   "execution_count": 25,
   "id": "bbe538cb",
   "metadata": {},
   "outputs": [
    {
     "name": "stdout",
     "output_type": "stream",
     "text": [
      "enter the number of rows:5\n",
      "1\n",
      "12\n",
      "123\n",
      "1234\n",
      "12345\n"
     ]
    }
   ],
   "source": [
    "#1\n",
    "n=int(input(\"enter the number of rows:\"))\n",
    "for i in range (1,n+1):\n",
    "    for j in range (1,i+1):\n",
    "        print(j,end=\"\")\n",
    "    print()"
   ]
  },
  {
   "cell_type": "code",
   "execution_count": 2,
   "id": "057738ac",
   "metadata": {},
   "outputs": [
    {
     "name": "stdout",
     "output_type": "stream",
     "text": [
      "enter the number of rows:5\n",
      "1\n",
      "22\n",
      "333\n",
      "4444\n",
      "55555\n"
     ]
    }
   ],
   "source": [
    "#2\n",
    "n=int(input(\"enter the number of rows:\"))\n",
    "for i in range (1,n+1):\n",
    "    for j in range (1,i+1):\n",
    "        print(i,end=\"\")\n",
    "    print()"
   ]
  },
  {
   "cell_type": "code",
   "execution_count": 23,
   "id": "8c4b91e3",
   "metadata": {},
   "outputs": [
    {
     "name": "stdout",
     "output_type": "stream",
     "text": [
      "enter the number of rows:5\n",
      "1\n",
      "12\n",
      "123\n",
      "1234\n",
      "12345\n",
      "1234\n",
      "123\n",
      "12\n",
      "1\n"
     ]
    }
   ],
   "source": [
    "#3\n",
    "n=int(input(\"enter the number of rows:\"))\n",
    "for i in range (1,n+1):\n",
    "    for j in range (1,i+1):\n",
    "        print(j,end=\"\")\n",
    "    print()\n",
    "for i in range (n,1,-1):\n",
    "    for j in range (1,i):\n",
    "        print(j,end=\"\")\n",
    "    print()"
   ]
  },
  {
   "cell_type": "code",
   "execution_count": 10,
   "id": "de1afbe8",
   "metadata": {},
   "outputs": [
    {
     "name": "stdout",
     "output_type": "stream",
     "text": [
      "enter the number of rows:5\n",
      "12345\n",
      "1234\n",
      "123\n",
      "12\n",
      "1\n",
      "1\n",
      "12\n",
      "123\n",
      "1234\n",
      "12345\n"
     ]
    }
   ],
   "source": [
    "#4\n",
    "n=int(input(\"enter the number of rows:\"))\n",
    "for i in range (n,0,-1):\n",
    "    for j in range (1,i+1):\n",
    "        print(j,end=\"\")\n",
    "    print()\n",
    "for i in range (1,n+1):\n",
    "    for j in range (1,i+1):\n",
    "        print(j,end=\"\")\n",
    "    print()"
   ]
  },
  {
   "cell_type": "code",
   "execution_count": 14,
   "id": "8a061b41",
   "metadata": {},
   "outputs": [
    {
     "name": "stdout",
     "output_type": "stream",
     "text": [
      "enter the number of rows:5\n",
      "54321\n",
      "4321\n",
      "321\n",
      "21\n",
      "1\n",
      "1\n",
      "21\n",
      "321\n",
      "4321\n",
      "54321\n"
     ]
    }
   ],
   "source": [
    "#5\n",
    "n=int(input(\"enter the number of rows:\"))\n",
    "for i in range (n,0,-1):\n",
    "    for j in range (i,0,-1):\n",
    "        print(j,end=\"\")\n",
    "    print()\n",
    "for i in range (1,n+1):\n",
    "    for j in range (i,0,-1):\n",
    "        print(j,end=\"\")\n",
    "    print()"
   ]
  },
  {
   "cell_type": "code",
   "execution_count": 19,
   "id": "f0525681",
   "metadata": {},
   "outputs": [
    {
     "name": "stdout",
     "output_type": "stream",
     "text": [
      "enter the number of rows:5\n",
      "    1 \n",
      "   1 2 \n",
      "  1 2 3 \n",
      " 1 2 3 4 \n",
      "1 2 3 4 5 \n"
     ]
    }
   ],
   "source": [
    "#6\n",
    "n=int(input(\"enter the number of rows:\"))\n",
    "for i in range (1,n+1):\n",
    "    print(\" \"*(n-i),end=\"\")\n",
    "    for j in range (1,i+1):\n",
    "        print(j,end=\" \")\n",
    "    print()"
   ]
  },
  {
   "cell_type": "code",
   "execution_count": 29,
   "id": "417ae46e",
   "metadata": {},
   "outputs": [
    {
     "name": "stdout",
     "output_type": "stream",
     "text": [
      "enter the number of rows:5\n",
      "54321\n",
      "5432\n",
      "543\n",
      "54\n",
      "5\n"
     ]
    }
   ],
   "source": [
    "#7\n",
    "n=int(input(\"enter the number of rows:\"))\n",
    "for i in range (n,0,-1):\n",
    "    for j in range (0,i):\n",
    "        print(n-j,end=\"\")\n",
    "    print()"
   ]
  },
  {
   "cell_type": "code",
   "execution_count": 26,
   "id": "4d3c545c",
   "metadata": {},
   "outputs": [
    {
     "name": "stdout",
     "output_type": "stream",
     "text": [
      "enter the number of rows:5\n",
      "5\n",
      "54\n",
      "543\n",
      "5432\n",
      "54321\n"
     ]
    }
   ],
   "source": [
    "#8\n",
    "n=int(input(\"enter the number of rows:\"))\n",
    "for i in range (1,n+1):\n",
    "    for j in range (0,i):\n",
    "        print(n-j,end=\"\")\n",
    "    print()"
   ]
  },
  {
   "cell_type": "code",
   "execution_count": 30,
   "id": "a8b5fb9f",
   "metadata": {},
   "outputs": [
    {
     "name": "stdout",
     "output_type": "stream",
     "text": [
      "enter the number of rows:5\n",
      "12345\n",
      "1234\n",
      "123\n",
      "12\n",
      "1\n"
     ]
    }
   ],
   "source": [
    "#9\n",
    "n=int(input(\"enter the number of rows:\"))\n",
    "for i in range (n,0,-1):\n",
    "    for j in range (1,i+1):\n",
    "        print(j,end=\"\")\n",
    "    print()"
   ]
  },
  {
   "cell_type": "code",
   "execution_count": 31,
   "id": "ea354f69",
   "metadata": {},
   "outputs": [],
   "source": [
    "#10"
   ]
  },
  {
   "cell_type": "code",
   "execution_count": 33,
   "id": "d08874b6",
   "metadata": {},
   "outputs": [
    {
     "name": "stdout",
     "output_type": "stream",
     "text": [
      "enter the number of rows:5\n",
      "1\n",
      "21\n",
      "321\n",
      "4321\n",
      "54321\n"
     ]
    }
   ],
   "source": [
    "#11\n",
    "n=int(input(\"enter the number of rows:\"))\n",
    "for i in range (1,n+1):\n",
    "    for j in range (0,i):\n",
    "        print(i-j,end=\"\")\n",
    "    print()"
   ]
  },
  {
   "cell_type": "code",
   "execution_count": 34,
   "id": "1ff6c8d8",
   "metadata": {},
   "outputs": [],
   "source": [
    "#12"
   ]
  },
  {
   "cell_type": "code",
   "execution_count": 35,
   "id": "9ee37f49",
   "metadata": {},
   "outputs": [],
   "source": [
    "#13"
   ]
  },
  {
   "cell_type": "code",
   "execution_count": 51,
   "id": "1d4a078b",
   "metadata": {},
   "outputs": [
    {
     "name": "stdout",
     "output_type": "stream",
     "text": [
      "enter the number of rows:5\n",
      "1\n",
      "121\n",
      "12321\n",
      "1234321\n",
      "123454321\n"
     ]
    }
   ],
   "source": [
    "#14\n",
    "n=int(input(\"enter the number of rows:\"))\n",
    "for i in range (1,n+1):\n",
    "    for j in range (1,i+1):\n",
    "        print(j,end=\"\")\n",
    "    for k in range (i-1,0,-1):\n",
    "        print(k,end=\"\")\n",
    "    print()"
   ]
  },
  {
   "cell_type": "code",
   "execution_count": 55,
   "id": "0895590a",
   "metadata": {},
   "outputs": [
    {
     "name": "stdout",
     "output_type": "stream",
     "text": [
      "enter the number of rows:5\n",
      "1 2 3 4 5 \n",
      " 1 2 3 4 \n",
      "  1 2 3 \n",
      "   1 2 \n",
      "    1 \n"
     ]
    }
   ],
   "source": [
    "#15\n",
    "n=int(input(\"enter the number of rows:\"))\n",
    "for i in range (n,0,-1):\n",
    "    print(\" \"*(n-i),end=\"\")\n",
    "    for j in range (1,i+1):\n",
    "        print(j,end=\" \")\n",
    "    print()"
   ]
  },
  {
   "cell_type": "code",
   "execution_count": 72,
   "id": "e196914f",
   "metadata": {},
   "outputs": [
    {
     "name": "stdout",
     "output_type": "stream",
     "text": [
      "enter the number of rows:5\n",
      "    1 \n",
      "   1 2 \n",
      "  1 2 3 \n",
      " 1 2 3 4 \n",
      "1 2 3 4 5 \n",
      " 1 2 3 4 \n",
      "  1 2 3 \n",
      "   1 2 \n",
      "    1 \n"
     ]
    }
   ],
   "source": [
    "#16\n",
    "n=int(input(\"enter the number of rows:\"))\n",
    "for i in range (1,n+1):\n",
    "    print(\" \"*(n-i),end=\"\")\n",
    "    for j in range (1,i+1):\n",
    "        print(j,end=\" \")\n",
    "    print()\n",
    "for i in range (n,1,-1):\n",
    "    print(\" \"*((n+1)-i),end=\"\")\n",
    "    for j in range (1,i):\n",
    "        print(j,end=\" \")\n",
    "    print()"
   ]
  },
  {
   "cell_type": "code",
   "execution_count": 106,
   "id": "96df63b1",
   "metadata": {},
   "outputs": [
    {
     "name": "stdout",
     "output_type": "stream",
     "text": [
      "enter the number of rows:5\n",
      "12345\n",
      " 2345\n",
      "  345\n",
      "   45\n",
      "    5\n",
      "    5\n",
      "   45\n",
      "  345\n",
      " 2345\n",
      "12345\n"
     ]
    }
   ],
   "source": [
    "#17\n",
    "n=int(input(\"enter the number of rows:\"))\n",
    "space=0\n",
    "for i in range (1,n+1):\n",
    "    print(\" \"*space,end=\"\")\n",
    "    for j in range (i,n+1):\n",
    "        print(j,end=\"\")\n",
    "    print()\n",
    "    space+=1\n",
    "space=4\n",
    "for i in range (n,0,-1):\n",
    "    print(\" \"*space,end=\"\")\n",
    "    for j in range (i,n+1):\n",
    "        print(j,end=\"\")\n",
    "    print()\n",
    "    space-=1\n"
   ]
  },
  {
   "cell_type": "code",
   "execution_count": 108,
   "id": "d9d48949",
   "metadata": {},
   "outputs": [
    {
     "name": "stdout",
     "output_type": "stream",
     "text": [
      "enter the number of rows:5\n",
      "1 2 3 4 5 \n",
      " 2 3 4 5 \n",
      "  3 4 5 \n",
      "   4 5 \n",
      "    5 \n",
      "    5 \n",
      "   4 5 \n",
      "  3 4 5 \n",
      " 2 3 4 5 \n",
      "1 2 3 4 5 \n"
     ]
    }
   ],
   "source": [
    "#18\n",
    "n=int(input(\"enter the number of rows:\"))\n",
    "space=0\n",
    "for i in range (1,n+1):\n",
    "    print(\" \"*space,end=\"\")\n",
    "    for j in range (i,n+1):\n",
    "        print(j,end=\" \")\n",
    "    print()\n",
    "    space+=1\n",
    "space=4\n",
    "for i in range (n,0,-1):\n",
    "    print(\" \"*space,end=\"\")\n",
    "    for j in range (i,n+1):\n",
    "        print(j,end=\" \")\n",
    "    print()\n",
    "    space-=1"
   ]
  },
  {
   "cell_type": "code",
   "execution_count": 109,
   "id": "1ef1664f",
   "metadata": {},
   "outputs": [
    {
     "name": "stdout",
     "output_type": "stream",
     "text": [
      "enter the number of rows:5\n",
      "    5 \n",
      "   4 5 \n",
      "  3 4 5 \n",
      " 2 3 4 5 \n",
      "1 2 3 4 5 \n"
     ]
    }
   ],
   "source": [
    "#19\n",
    "space=4\n",
    "n=int(input(\"enter the number of rows:\"))\n",
    "for i in range (n,0,-1):\n",
    "    print(\" \"*space,end=\"\")\n",
    "    for j in range (i,n+1):\n",
    "        print(j,end=\" \")\n",
    "    print()\n",
    "    space-=1"
   ]
  },
  {
   "cell_type": "code",
   "execution_count": 123,
   "id": "f411f2d8",
   "metadata": {},
   "outputs": [
    {
     "name": "stdout",
     "output_type": "stream",
     "text": [
      "enter the number of rows:5\n",
      "    1\n",
      "   121\n",
      "  12321\n",
      " 1234321\n",
      "123454321\n"
     ]
    }
   ],
   "source": [
    "#20\n",
    "space=4\n",
    "n=int(input(\"enter the number of rows:\"))\n",
    "for i in range(1,n+1):\n",
    "    print(\" \"*space,end=\"\")\n",
    "    for j in range(1,i+1):\n",
    "        print(j,end=\"\")\n",
    "    space-=1\n",
    "    for j in range(i-1,0,-1):\n",
    "        print(j,end=\"\")\n",
    "    print()"
   ]
  },
  {
   "cell_type": "code",
   "execution_count": 128,
   "id": "4a60addb",
   "metadata": {},
   "outputs": [
    {
     "name": "stdout",
     "output_type": "stream",
     "text": [
      "enter the number of rows:5\n",
      "1\n",
      "10\n",
      "101\n",
      "1010\n",
      "10101\n"
     ]
    }
   ],
   "source": [
    "#21\n",
    "n=int(input(\"enter the number of rows:\"))\n",
    "for i in range(1,n+1):\n",
    "    for j in range(1,i+1):\n",
    "        print(j%2,end=\"\")\n",
    "    print()"
   ]
  },
  {
   "cell_type": "code",
   "execution_count": 134,
   "id": "191ddcd3",
   "metadata": {},
   "outputs": [
    {
     "name": "stdout",
     "output_type": "stream",
     "text": [
      "enter the number of rows:5\n",
      "10000\n",
      "02000\n",
      "00300\n",
      "00040\n",
      "00005\n"
     ]
    }
   ],
   "source": [
    "#22\n",
    "n=int(input(\"enter the number of rows:\"))\n",
    "for i in range(1,n+1):\n",
    "    for j in range(1,n+1):\n",
    "        if(i==j):\n",
    "            print(j,end=\"\")\n",
    "        else:\n",
    "            print(\"0\",end=\"\")\n",
    "    print()"
   ]
  },
  {
   "cell_type": "code",
   "execution_count": 140,
   "id": "c1403f5c",
   "metadata": {},
   "outputs": [
    {
     "name": "stdout",
     "output_type": "stream",
     "text": [
      "enter the number of rows:5\n",
      "11111\n",
      "11122\n",
      "11333\n",
      "14444\n",
      "55555\n"
     ]
    }
   ],
   "source": [
    "#23\n",
    "n=int(input(\"enter the number of rows:\"))\n",
    "space=4\n",
    "for i in range (1,n+1):\n",
    "    print(\"1\"*space,end=\"\")\n",
    "    for j in range (1,i+1):\n",
    "        print(i,end=\"\")\n",
    "    print()\n",
    "    space-=1"
   ]
  },
  {
   "cell_type": "code",
   "execution_count": 165,
   "id": "c0177d81",
   "metadata": {},
   "outputs": [
    {
     "name": "stdout",
     "output_type": "stream",
     "text": [
      "enter the number of rows:5\n",
      "123451234\n",
      "2345234\n",
      "34534\n",
      "454\n",
      "5\n"
     ]
    }
   ],
   "source": [
    "#24\n",
    "n=int(input(\"enter the number of rows:\"))\n",
    "for i in range (1,n+1):\n",
    "    for j in range (i,n+1):\n",
    "        print(j,end=\"\")\n",
    "    for k in range (i,n):\n",
    "        print(k,end=\"\")\n",
    "    print()"
   ]
  },
  {
   "cell_type": "code",
   "execution_count": 169,
   "id": "e321c830",
   "metadata": {},
   "outputs": [
    {
     "name": "stdout",
     "output_type": "stream",
     "text": [
      "enter the number of rows:5\n",
      "    1 \n",
      "   2 2 \n",
      "  3 3 3 \n",
      " 4 4 4 4 \n",
      "5 5 5 5 5 \n"
     ]
    }
   ],
   "source": [
    "#25\n",
    "n=int(input(\"enter the number of rows:\"))\n",
    "space=4\n",
    "for i in range(1,n+1):\n",
    "    print(\" \"*space,end=\"\")\n",
    "    for j in range(1,i+1):\n",
    "        print(i,end=\" \")\n",
    "    print()\n",
    "    space-=1"
   ]
  },
  {
   "cell_type": "code",
   "execution_count": 174,
   "id": "38d8b275",
   "metadata": {},
   "outputs": [
    {
     "name": "stdout",
     "output_type": "stream",
     "text": [
      "enter the number of rows:5\n",
      "55555\n",
      "45555\n",
      "34555\n",
      "23455\n",
      "12345\n"
     ]
    }
   ],
   "source": [
    "#26\n",
    "n=int(input(\"enter the number of rows:\"))\n",
    "space=4\n",
    "for i in range(n,0,-1):\n",
    "    for j in range(i,n+1):\n",
    "        print(j,end=\"\")\n",
    "    print(\"5\"*space,end=\"\")\n",
    "    print()\n",
    "    space-=1"
   ]
  },
  {
   "cell_type": "code",
   "execution_count": 4,
   "id": "38659d36",
   "metadata": {},
   "outputs": [
    {
     "name": "stdout",
     "output_type": "stream",
     "text": [
      "enter the number of rows:4\n",
      "   #\n",
      "  ##\n",
      " ###\n",
      "####\n"
     ]
    }
   ],
   "source": [
    "n=int(input(\"enter the number of rows:\"))\n",
    "space=n-1\n",
    "for i in range(1,n+1):\n",
    "    print(\" \"*space,end=\"\")\n",
    "    space-=1\n",
    "    print(\"#\"*i,end=\"\")\n",
    "    print()\n",
    "    "
   ]
  },
  {
   "cell_type": "code",
   "execution_count": 8,
   "id": "38712808",
   "metadata": {},
   "outputs": [
    {
     "name": "stdout",
     "output_type": "stream",
     "text": [
      "enter a num=5\n",
      "* * * * * \n",
      "* * * * \n",
      "* * * \n",
      "* * \n",
      "* \n"
     ]
    }
   ],
   "source": [
    "n=int(input(\"enter a num=\"))\n",
    "for i in range(n,0,-1):\n",
    "    for j in range(0,i):\n",
    "        print(\"* \",end=\"\")\n",
    "    print(\"\")"
   ]
  },
  {
   "cell_type": "code",
   "execution_count": 1,
   "id": "714dc960",
   "metadata": {},
   "outputs": [
    {
     "name": "stdout",
     "output_type": "stream",
     "text": [
      "enter the number of rows:5\n",
      "    *\n",
      "   **\n",
      "  ***\n",
      " ****\n",
      "*****\n"
     ]
    }
   ],
   "source": [
    "n=int(input(\"enter the number of rows:\"))\n",
    "for i in range (n,0,-1):\n",
    "    print(\" \"*(i-1),end=\"\")\n",
    "    for j in range(i,n+1):\n",
    "            print(\"*\",end=\"\")\n",
    "    print()"
   ]
  },
  {
   "cell_type": "code",
   "execution_count": 2,
   "id": "80ce808b",
   "metadata": {},
   "outputs": [
    {
     "name": "stdout",
     "output_type": "stream",
     "text": [
      "enter the number of rows:5\n",
      "*****\n",
      " ****\n",
      "  ***\n",
      "   **\n",
      "    *\n"
     ]
    }
   ],
   "source": [
    "n=int(input(\"enter the number of rows:\"))\n",
    "for i in range (n,0,-1):\n",
    "    print(\" \"*(n-i),end=\"\")\n",
    "    for j in range(i,0,-1):\n",
    "        print(\"*\",end=\"\")\n",
    "    print()"
   ]
  },
  {
   "cell_type": "code",
   "execution_count": 3,
   "id": "903b4b45",
   "metadata": {},
   "outputs": [
    {
     "name": "stdout",
     "output_type": "stream",
     "text": [
      "enter the number of rows:5\n",
      "    * \n",
      "   * * \n",
      "  * * * \n",
      " * * * * \n",
      "* * * * * \n"
     ]
    }
   ],
   "source": [
    "n=int(input(\"enter the number of rows:\"))\n",
    "for i in range (1,n+1):\n",
    "    print(\" \"*(n-i),end=\"\")\n",
    "    for j in range(1,i+1):\n",
    "        print(\"*\",end=\" \")\n",
    "    print()"
   ]
  },
  {
   "cell_type": "code",
   "execution_count": 4,
   "id": "3e62395d",
   "metadata": {},
   "outputs": [
    {
     "name": "stdout",
     "output_type": "stream",
     "text": [
      "enter the number of rows:5\n",
      "* * * * * \n",
      " * * * * \n",
      "  * * * \n",
      "   * * \n",
      "    * \n"
     ]
    }
   ],
   "source": [
    "n=int(input(\"enter the number of rows:\"))\n",
    "for i in range (n,0,-1):\n",
    "    print(\" \"*(n-i),end=\"\")\n",
    "    for j in range(i,0,-1):\n",
    "        print(\"*\",end=\" \")\n",
    "    print()"
   ]
  },
  {
   "cell_type": "code",
   "execution_count": 5,
   "id": "8d377f7e",
   "metadata": {},
   "outputs": [
    {
     "name": "stdout",
     "output_type": "stream",
     "text": [
      "enter the number of rows:5\n",
      "* * * * * \n",
      " * * * * \n",
      "  * * * \n",
      "   * * \n",
      "    * \n",
      "    * \n",
      "   * * \n",
      "  * * * \n",
      " * * * * \n",
      "* * * * * \n"
     ]
    }
   ],
   "source": [
    "n=int(input(\"enter the number of rows:\"))\n",
    "for i in range (n,0,-1):\n",
    "    print(\" \"*(n-i),end=\"\")\n",
    "    for j in range(i,0,-1):\n",
    "        print(\"*\",end=\" \")\n",
    "    print()\n",
    "for i in range (1,n+1):\n",
    "    print(\" \"*(n-i),end=\"\")\n",
    "    for j in range(1,i+1):\n",
    "        print(\"*\",end=\" \")\n",
    "    print()"
   ]
  },
  {
   "cell_type": "code",
   "execution_count": 6,
   "id": "37136986",
   "metadata": {},
   "outputs": [
    {
     "name": "stdout",
     "output_type": "stream",
     "text": [
      "A\n",
      "AB\n",
      "ABC\n",
      "ABCD\n",
      "ABCDE\n"
     ]
    }
   ],
   "source": [
    "n=\"ABCDE\"\n",
    "for i in range(1,len(n)+1):\n",
    "    print(n[:i])"
   ]
  },
  {
   "cell_type": "code",
   "execution_count": 7,
   "id": "2a3807e7",
   "metadata": {},
   "outputs": [
    {
     "name": "stdout",
     "output_type": "stream",
     "text": [
      "ABCDE\n",
      "ABCD\n",
      "ABC\n",
      "AB\n",
      "A\n"
     ]
    }
   ],
   "source": [
    "n=\"ABCDE\"\n",
    "for i in range(len(n),0,-1):\n",
    "    print(n[:i])"
   ]
  }
 ],
 "metadata": {
  "kernelspec": {
   "display_name": "Python 3 (ipykernel)",
   "language": "python",
   "name": "python3"
  },
  "language_info": {
   "codemirror_mode": {
    "name": "ipython",
    "version": 3
   },
   "file_extension": ".py",
   "mimetype": "text/x-python",
   "name": "python",
   "nbconvert_exporter": "python",
   "pygments_lexer": "ipython3",
   "version": "3.9.7"
  }
 },
 "nbformat": 4,
 "nbformat_minor": 5
}
